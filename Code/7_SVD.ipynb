{
 "cells": [
  {
   "cell_type": "code",
   "execution_count": 7,
   "id": "a3edda42",
   "metadata": {},
   "outputs": [],
   "source": [
    "%%capture capt\n",
    "%run 6_user_item_collaborative.ipynb"
   ]
  },
  {
   "cell_type": "code",
   "execution_count": 8,
   "id": "01e161d5",
   "metadata": {},
   "outputs": [],
   "source": [
    "from surprise import Reader, Dataset, SVD\n",
    "from surprise.model_selection import cross_validate, KFold"
   ]
  },
  {
   "cell_type": "code",
   "execution_count": 9,
   "id": "e95995d7",
   "metadata": {},
   "outputs": [
    {
     "data": {
      "text/html": [
       "<div>\n",
       "<style scoped>\n",
       "    .dataframe tbody tr th:only-of-type {\n",
       "        vertical-align: middle;\n",
       "    }\n",
       "\n",
       "    .dataframe tbody tr th {\n",
       "        vertical-align: top;\n",
       "    }\n",
       "\n",
       "    .dataframe thead th {\n",
       "        text-align: right;\n",
       "    }\n",
       "</style>\n",
       "<table border=\"1\" class=\"dataframe\">\n",
       "  <thead>\n",
       "    <tr style=\"text-align: right;\">\n",
       "      <th></th>\n",
       "      <th>userId</th>\n",
       "      <th>movieId</th>\n",
       "      <th>rating</th>\n",
       "      <th>timestamp</th>\n",
       "    </tr>\n",
       "  </thead>\n",
       "  <tbody>\n",
       "    <tr>\n",
       "      <th>0</th>\n",
       "      <td>1</td>\n",
       "      <td>31</td>\n",
       "      <td>2.5</td>\n",
       "      <td>1260759144</td>\n",
       "    </tr>\n",
       "    <tr>\n",
       "      <th>1</th>\n",
       "      <td>1</td>\n",
       "      <td>1029</td>\n",
       "      <td>3.0</td>\n",
       "      <td>1260759179</td>\n",
       "    </tr>\n",
       "    <tr>\n",
       "      <th>2</th>\n",
       "      <td>1</td>\n",
       "      <td>1061</td>\n",
       "      <td>3.0</td>\n",
       "      <td>1260759182</td>\n",
       "    </tr>\n",
       "    <tr>\n",
       "      <th>3</th>\n",
       "      <td>1</td>\n",
       "      <td>1129</td>\n",
       "      <td>2.0</td>\n",
       "      <td>1260759185</td>\n",
       "    </tr>\n",
       "    <tr>\n",
       "      <th>4</th>\n",
       "      <td>1</td>\n",
       "      <td>1172</td>\n",
       "      <td>4.0</td>\n",
       "      <td>1260759205</td>\n",
       "    </tr>\n",
       "  </tbody>\n",
       "</table>\n",
       "</div>"
      ],
      "text/plain": [
       "   userId  movieId  rating   timestamp\n",
       "0       1       31     2.5  1260759144\n",
       "1       1     1029     3.0  1260759179\n",
       "2       1     1061     3.0  1260759182\n",
       "3       1     1129     2.0  1260759185\n",
       "4       1     1172     4.0  1260759205"
      ]
     },
     "execution_count": 9,
     "metadata": {},
     "output_type": "execute_result"
    }
   ],
   "source": [
    "reader = Reader()\n",
    "ratings = pd.read_csv('../datasets/The_Movies/ratings_small.csv')\n",
    "ratings.head()"
   ]
  },
  {
   "cell_type": "markdown",
   "id": "62459886",
   "metadata": {},
   "source": [
    "##### load user ratings dataset"
   ]
  },
  {
   "cell_type": "code",
   "execution_count": 10,
   "id": "31bc24aa",
   "metadata": {},
   "outputs": [],
   "source": [
    "userRating = Dataset.load_from_df(ratings[['userId', 'movieId', 'rating']], reader)"
   ]
  },
  {
   "cell_type": "markdown",
   "id": "963a177b",
   "metadata": {},
   "source": [
    "##### Build SVD model and test the accuracy of the model using Root Mean Square error "
   ]
  },
  {
   "cell_type": "code",
   "execution_count": 18,
   "id": "419533a0",
   "metadata": {},
   "outputs": [
    {
     "name": "stdout",
     "output_type": "stream",
     "text": [
      "Evaluating RMSE, MAE of algorithm SVD on 5 split(s).\n",
      "\n",
      "                  Fold 1  Fold 2  Fold 3  Fold 4  Fold 5  Mean    Std     \n",
      "RMSE (testset)    0.9018  0.8965  0.8993  0.8965  0.8949  0.8978  0.0025  \n",
      "MAE (testset)     0.6937  0.6903  0.6917  0.6890  0.6905  0.6910  0.0016  \n",
      "Fit time          5.25    5.10    5.34    5.25    5.49    5.28    0.13    \n",
      "Test time         0.22    0.33    0.22    0.32    0.25    0.27    0.05    \n"
     ]
    },
    {
     "data": {
      "text/plain": [
       "{'test_rmse': array([0.9018116 , 0.89649866, 0.8992837 , 0.89648083, 0.89485021]),\n",
       " 'test_mae': array([0.69367403, 0.69034844, 0.69172205, 0.68895205, 0.69052712]),\n",
       " 'fit_time': (5.245382070541382,\n",
       "  5.1007397174835205,\n",
       "  5.336461782455444,\n",
       "  5.2450456619262695,\n",
       "  5.486242771148682),\n",
       " 'test_time': (0.22410106658935547,\n",
       "  0.3327341079711914,\n",
       "  0.21565556526184082,\n",
       "  0.31932640075683594,\n",
       "  0.24893736839294434)}"
      ]
     },
     "execution_count": 18,
     "metadata": {},
     "output_type": "execute_result"
    }
   ],
   "source": [
    "svd = SVD()\n",
    "cross_validate(svd, userRating, measures=['RMSE', 'MAE'], cv=5, verbose=True)"
   ]
  },
  {
   "cell_type": "markdown",
   "id": "1a519b34",
   "metadata": {},
   "source": [
    "###### Train SVD with full trainset"
   ]
  },
  {
   "cell_type": "code",
   "execution_count": 19,
   "id": "52943b80",
   "metadata": {},
   "outputs": [
    {
     "data": {
      "text/plain": [
       "<surprise.prediction_algorithms.matrix_factorization.SVD at 0x7fa02b115760>"
      ]
     },
     "execution_count": 19,
     "metadata": {},
     "output_type": "execute_result"
    }
   ],
   "source": [
    "trainset = userRating.build_full_trainset()\n",
    "svd.fit(trainset)"
   ]
  },
  {
   "cell_type": "markdown",
   "id": "fb510619",
   "metadata": {},
   "source": [
    "###### choose random movie id from dataset and calculate the score for the previously selected random user"
   ]
  },
  {
   "cell_type": "code",
   "execution_count": 20,
   "id": "d4ef19f4",
   "metadata": {},
   "outputs": [
    {
     "data": {
      "text/plain": [
       "'Iron Man'"
      ]
     },
     "execution_count": 20,
     "metadata": {},
     "output_type": "execute_result"
    }
   ],
   "source": [
    "randomMovieId = random.choice(movieRatings['movieId'])\n",
    "movieRatings.iloc[movieIdIndex[randomMovieId]].title"
   ]
  },
  {
   "cell_type": "code",
   "execution_count": 21,
   "id": "bd1fda1b",
   "metadata": {},
   "outputs": [
    {
     "data": {
      "text/plain": [
       "3.5925396680413235"
      ]
     },
     "execution_count": 21,
     "metadata": {},
     "output_type": "execute_result"
    }
   ],
   "source": [
    "svdPrediction = svd.predict(randomUser, randomMovieId)\n",
    "svdPrediction.est"
   ]
  }
 ],
 "metadata": {
  "kernelspec": {
   "display_name": "Python 3 (ipykernel)",
   "language": "python",
   "name": "python3"
  },
  "language_info": {
   "codemirror_mode": {
    "name": "ipython",
    "version": 3
   },
   "file_extension": ".py",
   "mimetype": "text/x-python",
   "name": "python",
   "nbconvert_exporter": "python",
   "pygments_lexer": "ipython3",
   "version": "3.8.10"
  }
 },
 "nbformat": 4,
 "nbformat_minor": 5
}
