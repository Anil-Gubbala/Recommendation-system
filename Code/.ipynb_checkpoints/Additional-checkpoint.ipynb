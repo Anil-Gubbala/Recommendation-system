{
 "cells": [
  {
   "cell_type": "code",
   "execution_count": null,
   "id": "08c87a2f",
   "metadata": {},
   "outputs": [],
   "source": [
    "# Tmeta = pd.read_csv(\"../datasets/The_Movies/movies_metadata.csv\")\n",
    "# print(\"metadata file is corrupted but same date is present in tmdb_5000_movies.csv datafile\")\n",
    "# pd.DataFrame({'feature':Tmeta.dtypes.index, 'dtype':Tmeta.dtypes.values})\n",
    "\n",
    "#Tmeta = pd.read_csv(\"../datasets/The_Movies/movies_metadata.csv\")\n",
    "# Tmeta = pd.read_csv(os.path.join(PATH,\"movies_metadata.csv\"), low_memory=False)\n",
    "# Tmeta[Tmeta['popularity'] == 'Beware Of Frost Bites']\n",
    "# loc = Tmeta.index[Tmeta['popularity'] == 'Beware Of Frost Bites'].tolist()\n",
    "# Tmeta.iloc[loc]\n",
    "# Tmeta = Tmeta.drop(Tmeta.index[35587])\n",
    "# Tmeta.astype({'popularity':float})"
   ]
  },
  {
   "cell_type": "code",
   "execution_count": 1,
   "id": "a11c9cbe",
   "metadata": {},
   "outputs": [],
   "source": [
    "# try:\n",
    "#     JSON = json.loads(movies.genres[0])\n",
    "#     genreList = []\n",
    "#     for i in movies.genres:\n",
    "#         JSON = json.loads(i)\n",
    "#         movieGenres = []\n",
    "#         for j in JSON:\n",
    "#             movieGenres.append(j['name'])\n",
    "#         genreList.append(' '.join(movieGenres[:5]))\n",
    "#     movies = movies.drop(columns = ['genres'])\n",
    "#     movies['genres'] = pd.Series(genreList)\n",
    "#     movies.genres.head(2)\n",
    "# except:\n",
    "#     movies.genres.head(2)\n",
    "# movies.genres.head(2)"
   ]
  }
 ],
 "metadata": {
  "kernelspec": {
   "display_name": "Python 3 (ipykernel)",
   "language": "python",
   "name": "python3"
  },
  "language_info": {
   "codemirror_mode": {
    "name": "ipython",
    "version": 3
   },
   "file_extension": ".py",
   "mimetype": "text/x-python",
   "name": "python",
   "nbconvert_exporter": "python",
   "pygments_lexer": "ipython3",
   "version": "3.8.10"
  }
 },
 "nbformat": 4,
 "nbformat_minor": 5
}
