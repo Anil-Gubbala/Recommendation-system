{
 "cells": [
  {
   "cell_type": "code",
   "execution_count": 231,
   "id": "c34ac57f",
   "metadata": {},
   "outputs": [],
   "source": [
    "from sklearn.feature_extraction.text import TfidfVectorizer\n",
    "from sklearn.metrics.pairwise import linear_kernel, cosine_similarity"
   ]
  },
  {
   "cell_type": "code",
   "execution_count": 232,
   "id": "280d77ec",
   "metadata": {},
   "outputs": [],
   "source": [
    "%%capture capt\n",
    "%run userAnalysis.ipynb"
   ]
  },
  {
   "cell_type": "code",
   "execution_count": 233,
   "id": "6caca8c0",
   "metadata": {},
   "outputs": [
    {
     "data": {
      "text/plain": [
       "0    In the 22nd century, a paraplegic Marine is di...\n",
       "1    Captain Barbossa, long believed to be dead, ha...\n",
       "2    A cryptic message from Bond’s past sends him o...\n",
       "3    Following the death of District Attorney Harve...\n",
       "4    John Carter is a war-weary, former military ca...\n",
       "Name: overview, dtype: object"
      ]
     },
     "execution_count": 233,
     "metadata": {},
     "output_type": "execute_result"
    }
   ],
   "source": [
    "movies['overview'].head()"
   ]
  },
  {
   "cell_type": "code",
   "execution_count": 234,
   "id": "1e609231",
   "metadata": {},
   "outputs": [
    {
     "name": "stdout",
     "output_type": "stream",
     "text": [
      "shape (4803, 20978)\n"
     ]
    }
   ],
   "source": [
    "tfidf = TfidfVectorizer(stop_words='english')\n",
    "overviewMatrix = tfidf.fit_transform(movies['overview'])\n",
    "print(\"shape\" , overviewMatrix.shape)\n",
    "# it is mxn matrix with m equal to the total rows of  dataset. \n",
    "# n is total no of different words used in overview column\n",
    "# now if given a row or title we need to find other rows with similar data in the matrix"
   ]
  },
  {
   "cell_type": "code",
   "execution_count": 235,
   "id": "79fcd1da",
   "metadata": {},
   "outputs": [
    {
     "data": {
      "text/plain": [
       "array([[1.        , 0.        , 0.        , ..., 0.        , 0.        ,\n",
       "        0.        ],\n",
       "       [0.        , 1.        , 0.        , ..., 0.02160533, 0.        ,\n",
       "        0.        ],\n",
       "       [0.        , 0.        , 1.        , ..., 0.01488159, 0.        ,\n",
       "        0.        ],\n",
       "       ...,\n",
       "       [0.        , 0.02160533, 0.01488159, ..., 1.        , 0.01609091,\n",
       "        0.00701914],\n",
       "       [0.        , 0.        , 0.        , ..., 0.01609091, 1.        ,\n",
       "        0.01171696],\n",
       "       [0.        , 0.        , 0.        , ..., 0.00701914, 0.01171696,\n",
       "        1.        ]])"
      ]
     },
     "execution_count": 235,
     "metadata": {},
     "output_type": "execute_result"
    }
   ],
   "source": [
    "overviewSimilarity = linear_kernel(overviewMatrix, overviewMatrix)\n",
    "# it finds the similarity with all other rows in matrix and returns a list \n",
    "overviewSimilarity"
   ]
  },
  {
   "cell_type": "markdown",
   "id": "e6151317",
   "metadata": {},
   "source": [
    "Similar score matrix data can be fetched by using index of the required row. So if user searches for a particular movie, we need to get the index of that movie and then get the similartiy scores data. For this conversion instead of converting each time during search we can create a reverse map to store tiles as key & index as values. "
   ]
  },
  {
   "cell_type": "code",
   "execution_count": 236,
   "id": "eb0cda72",
   "metadata": {},
   "outputs": [
    {
     "data": {
      "text/plain": [
       "tmdbId\n",
       "19995     0\n",
       "285       1\n",
       "206647    2\n",
       "49026     3\n",
       "49529     4\n",
       "dtype: int64"
      ]
     },
     "execution_count": 236,
     "metadata": {},
     "output_type": "execute_result"
    }
   ],
   "source": [
    "indexMap = pd.Series(movies.index, index=movies['tmdbId'])\n",
    "indexMap.head()\n",
    "#indexMap.duplicated().sum()"
   ]
  },
  {
   "cell_type": "markdown",
   "id": "b63fa8f9",
   "metadata": {},
   "source": [
    "Once we get similarity scores for a particular movie, we need to sort them to find top 10 similar movies indices & then fetch the titles to recommend to the user. As any movie will have 1 as similarity score when compared with itself, its own index appears at top of list. So we ignore it and take next 10 items from the results. "
   ]
  },
  {
   "cell_type": "code",
   "execution_count": 237,
   "id": "ef94df80",
   "metadata": {
    "scrolled": true
   },
   "outputs": [
    {
     "data": {
      "text/plain": [
       "3604                       Apollo 18\n",
       "2130                    The American\n",
       "634                       The Matrix\n",
       "1341            The Inhabited Island\n",
       "529                 Tears of the Sun\n",
       "1610                           Hanna\n",
       "311     The Adventures of Pluto Nash\n",
       "847                         Semi-Pro\n",
       "775                        Supernova\n",
       "2628             Blood and Chocolate\n",
       "Name: title, dtype: object"
      ]
     },
     "execution_count": 237,
     "metadata": {},
     "output_type": "execute_result"
    }
   ],
   "source": [
    "#sorting\n",
    "sim_sorted = np.argsort(overviewSimilarity[0])\n",
    "#top 10 \n",
    "sim_indices = sim_sorted[::-1][:11]\n",
    "#titles\n",
    "sim_titles = movies.iloc[sim_indices]['title']\n",
    "sim_titles[1:]"
   ]
  },
  {
   "cell_type": "code",
   "execution_count": 247,
   "id": "c8149b15",
   "metadata": {},
   "outputs": [],
   "source": [
    "def contenSimilarMovies(tmdbId,similarity):\n",
    "    index = indexMap[tmdbId]\n",
    "    scores = similarity[index]\n",
    "    score_sorted = np.sort(scores)\n",
    "    score_index = np.argsort(scores)\n",
    "    top = score_index[::-1][1:11]\n",
    "    recommendations = np.array(movies.iloc[top]['tmdbId'])\n",
    "    return recommendations,score_sorted[::-1][1:11]"
   ]
  },
  {
   "cell_type": "code",
   "execution_count": 250,
   "id": "4d214b37",
   "metadata": {},
   "outputs": [
    {
     "name": "stdout",
     "output_type": "stream",
     "text": [
      "userId :  388\n",
      "total movies rated :  503\n",
      "avg ratings : 3.6888667992047712\n"
     ]
    },
    {
     "data": {
      "text/plain": [
       "84               Pirates of the Caribbean: At World's End\n",
       "317            Pirates of the Caribbean: Dead Man's Chest\n",
       "615                                               Titanic\n",
       "782                                          Spider-Man 2\n",
       "1258    The Chronicles of Narnia: The Lion, the Witch ...\n",
       "Name: title, dtype: object"
      ]
     },
     "execution_count": 250,
     "metadata": {},
     "output_type": "execute_result"
    }
   ],
   "source": []
  },
  {
   "cell_type": "code",
   "execution_count": 241,
   "id": "647cb68e",
   "metadata": {},
   "outputs": [],
   "source": [
    "def contentBasedRecom(randomUser,similarity):\n",
    "    likedMovies = ratedMovies[ratedMovies['rating'] >= 4 ]\n",
    "    ids = likedMovies['tmdbId']\n",
    "    moviesDict = dict()\n",
    "    for i in ids:\n",
    "        movies,score = overviewRecommender(i,similarity)\n",
    "        for j in range(len(movies)):\n",
    "            if(movies[j] in moviesDict):\n",
    "                if(moviesDict[movies[j]] < score[j]):\n",
    "                    moviesDict.update({movies[j]:score[j]})\n",
    "            else:\n",
    "                moviesDict[movies[j]] = score[j]\n",
    "    duplicates = []\n",
    "    for i in moviesDict:\n",
    "        if(i in ratedMovies['tmdbId']):\n",
    "            duplicates.append(i)\n",
    "    for i in duplicates:\n",
    "        moviesDict.pop(i)\n",
    "    return moviesDict"
   ]
  },
  {
   "cell_type": "code",
   "execution_count": 242,
   "id": "75015b04",
   "metadata": {},
   "outputs": [],
   "source": [
    "def getContentRecomMovies(user,similarity):\n",
    "    moviesDict = contentBasedRecom(user,similarity)\n",
    "    recommendedMovieIds = moviesDict.keys()\n",
    "    contentRecomIds = np.array(list(recommendedMovieIds))\n",
    "    contentRecomDf = pd.DataFrame({'tmdbId':moviesDict.keys(),'score':moviesDict.values()})\n",
    "    contentRecomDf = contentRecomDf.sort_values('score',ascending=False)\n",
    "    contentRecomTitles = []\n",
    "    for i in contentRecomIds:\n",
    "        contentRecomTitles.append(movies['title'].iloc[indexMap[i]])\n",
    "    contentRecomDf['titles'] = contentRecomTitles\n",
    "    contentRecomDf.head()\n",
    "    return contentRecomDf"
   ]
  },
  {
   "cell_type": "code",
   "execution_count": 251,
   "id": "e49b3320",
   "metadata": {},
   "outputs": [
    {
     "data": {
      "text/html": [
       "<div>\n",
       "<style scoped>\n",
       "    .dataframe tbody tr th:only-of-type {\n",
       "        vertical-align: middle;\n",
       "    }\n",
       "\n",
       "    .dataframe tbody tr th {\n",
       "        vertical-align: top;\n",
       "    }\n",
       "\n",
       "    .dataframe thead th {\n",
       "        text-align: right;\n",
       "    }\n",
       "</style>\n",
       "<table border=\"1\" class=\"dataframe\">\n",
       "  <thead>\n",
       "    <tr style=\"text-align: right;\">\n",
       "      <th></th>\n",
       "      <th>tmdbId</th>\n",
       "      <th>score</th>\n",
       "      <th>titles</th>\n",
       "    </tr>\n",
       "  </thead>\n",
       "  <tbody>\n",
       "    <tr>\n",
       "      <th>442</th>\n",
       "      <td>296099</td>\n",
       "      <td>0.470145</td>\n",
       "      <td>Pirates of the Caribbean: The Curse of the Bla...</td>\n",
       "    </tr>\n",
       "    <tr>\n",
       "      <th>118</th>\n",
       "      <td>1891</td>\n",
       "      <td>0.422981</td>\n",
       "      <td>Pirates of the Caribbean: On Stranger Tides</td>\n",
       "    </tr>\n",
       "    <tr>\n",
       "      <th>123</th>\n",
       "      <td>11</td>\n",
       "      <td>0.422981</td>\n",
       "      <td>Firewall</td>\n",
       "    </tr>\n",
       "    <tr>\n",
       "      <th>552</th>\n",
       "      <td>238</td>\n",
       "      <td>0.412329</td>\n",
       "      <td>Highway</td>\n",
       "    </tr>\n",
       "    <tr>\n",
       "      <th>551</th>\n",
       "      <td>240</td>\n",
       "      <td>0.412329</td>\n",
       "      <td>Ladder 49</td>\n",
       "    </tr>\n",
       "    <tr>\n",
       "      <th>...</th>\n",
       "      <td>...</td>\n",
       "      <td>...</td>\n",
       "      <td>...</td>\n",
       "    </tr>\n",
       "    <tr>\n",
       "      <th>1053</th>\n",
       "      <td>37718</td>\n",
       "      <td>0.062835</td>\n",
       "      <td>College</td>\n",
       "    </tr>\n",
       "    <tr>\n",
       "      <th>1055</th>\n",
       "      <td>16653</td>\n",
       "      <td>0.062302</td>\n",
       "      <td>Be Kind Rewind</td>\n",
       "    </tr>\n",
       "    <tr>\n",
       "      <th>72</th>\n",
       "      <td>49018</td>\n",
       "      <td>0.061650</td>\n",
       "      <td>Sex Tape</td>\n",
       "    </tr>\n",
       "    <tr>\n",
       "      <th>328</th>\n",
       "      <td>10521</td>\n",
       "      <td>0.059626</td>\n",
       "      <td>Vaalu</td>\n",
       "    </tr>\n",
       "    <tr>\n",
       "      <th>550</th>\n",
       "      <td>11208</td>\n",
       "      <td>0.056949</td>\n",
       "      <td>Detroit Rock City</td>\n",
       "    </tr>\n",
       "  </tbody>\n",
       "</table>\n",
       "<p>2043 rows × 3 columns</p>\n",
       "</div>"
      ],
      "text/plain": [
       "      tmdbId     score                                             titles\n",
       "442   296099  0.470145  Pirates of the Caribbean: The Curse of the Bla...\n",
       "118     1891  0.422981        Pirates of the Caribbean: On Stranger Tides\n",
       "123       11  0.422981                                           Firewall\n",
       "552      238  0.412329                                            Highway\n",
       "551      240  0.412329                                          Ladder 49\n",
       "...      ...       ...                                                ...\n",
       "1053   37718  0.062835                                            College\n",
       "1055   16653  0.062302                                     Be Kind Rewind\n",
       "72     49018  0.061650                                           Sex Tape\n",
       "328    10521  0.059626                                              Vaalu\n",
       "550    11208  0.056949                                  Detroit Rock City\n",
       "\n",
       "[2043 rows x 3 columns]"
      ]
     },
     "execution_count": 251,
     "metadata": {},
     "output_type": "execute_result"
    }
   ],
   "source": [
    "getContentRecomMovies(randomUser, overviewSimilarity)"
   ]
  },
  {
   "cell_type": "code",
   "execution_count": 244,
   "id": "a0c38f0b",
   "metadata": {},
   "outputs": [],
   "source": [
    "contentMatrix = tfidf.fit_transform(movies['content'])\n",
    "contentSimilarity = cosine_similarity(contentMatrix,contentMatrix)"
   ]
  },
  {
   "cell_type": "code",
   "execution_count": 259,
   "id": "1cca8e05",
   "metadata": {},
   "outputs": [],
   "source": [
    "rec1 = getContentRecomMovies(randomUser, contentSimilarity)"
   ]
  },
  {
   "cell_type": "code",
   "execution_count": 273,
   "id": "6c2f7d61",
   "metadata": {},
   "outputs": [
    {
     "data": {
      "text/plain": [
       "81     0.994632\n",
       "80     0.912649\n",
       "79     0.912649\n",
       "158    0.818371\n",
       "57     0.804658\n",
       "Name: score, dtype: float64"
      ]
     },
     "execution_count": 273,
     "metadata": {},
     "output_type": "execute_result"
    }
   ],
   "source": [
    "rec1['score']"
   ]
  }
 ],
 "metadata": {
  "kernelspec": {
   "display_name": "Python 3 (ipykernel)",
   "language": "python",
   "name": "python3"
  },
  "language_info": {
   "codemirror_mode": {
    "name": "ipython",
    "version": 3
   },
   "file_extension": ".py",
   "mimetype": "text/x-python",
   "name": "python",
   "nbconvert_exporter": "python",
   "pygments_lexer": "ipython3",
   "version": "3.8.10"
  }
 },
 "nbformat": 4,
 "nbformat_minor": 5
}
