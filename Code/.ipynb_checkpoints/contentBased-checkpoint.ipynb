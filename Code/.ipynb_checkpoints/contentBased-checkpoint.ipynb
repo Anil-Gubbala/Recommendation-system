{
 "cells": [
  {
   "cell_type": "code",
   "execution_count": 12,
   "id": "c34ac57f",
   "metadata": {},
   "outputs": [],
   "source": [
    "from sklearn.feature_extraction.text import TfidfVectorizer\n",
    "from sklearn.metrics.pairwise import linear_kernel"
   ]
  },
  {
   "cell_type": "code",
   "execution_count": 22,
   "id": "280d77ec",
   "metadata": {},
   "outputs": [
    {
     "name": "stdout",
     "output_type": "stream",
     "text": [
      "Requirement already satisfied: ipynb in /home/ben/.local/lib/python3.8/site-packages (0.5.1)\r\n"
     ]
    }
   ],
   "source": [
    "!pip install ipynb\n",
    "#%run Preprocessing.ipynb \n",
    "from ipynb.fs.full.preprocessing import *"
   ]
  },
  {
   "cell_type": "code",
   "execution_count": 14,
   "id": "6caca8c0",
   "metadata": {},
   "outputs": [
    {
     "data": {
      "text/plain": [
       "0    In the 22nd century, a paraplegic Marine is di...\n",
       "1    Captain Barbossa, long believed to be dead, ha...\n",
       "2    A cryptic message from Bond’s past sends him o...\n",
       "3    Following the death of District Attorney Harve...\n",
       "4    John Carter is a war-weary, former military ca...\n",
       "Name: overview, dtype: object"
      ]
     },
     "execution_count": 14,
     "metadata": {},
     "output_type": "execute_result"
    }
   ],
   "source": [
    "movies['overview'].head()"
   ]
  },
  {
   "cell_type": "code",
   "execution_count": 15,
   "id": "1e609231",
   "metadata": {},
   "outputs": [
    {
     "name": "stdout",
     "output_type": "stream",
     "text": [
      "shape (4803, 20978)\n"
     ]
    }
   ],
   "source": [
    "vectorizer = TfidfVectorizer(stop_words='english')\n",
    "vectorized = vectorizer.fit_transform(movies['overview'])\n",
    "print(\"shape\" , vectorized.shape)\n",
    "# it is mxn matrix with m equal to the total rows of  dataset. \n",
    "# n is total no of different words used in overview column\n",
    "# now if given a row or title we need to find other rows with similar data in the matrix"
   ]
  },
  {
   "cell_type": "code",
   "execution_count": 16,
   "id": "79fcd1da",
   "metadata": {},
   "outputs": [
    {
     "data": {
      "text/plain": [
       "array([[1.        , 0.        , 0.        , ..., 0.        , 0.        ,\n",
       "        0.        ],\n",
       "       [0.        , 1.        , 0.        , ..., 0.02160533, 0.        ,\n",
       "        0.        ],\n",
       "       [0.        , 0.        , 1.        , ..., 0.01488159, 0.        ,\n",
       "        0.        ],\n",
       "       ...,\n",
       "       [0.        , 0.02160533, 0.01488159, ..., 1.        , 0.01609091,\n",
       "        0.00701914],\n",
       "       [0.        , 0.        , 0.        , ..., 0.01609091, 1.        ,\n",
       "        0.01171696],\n",
       "       [0.        , 0.        , 0.        , ..., 0.00701914, 0.01171696,\n",
       "        1.        ]])"
      ]
     },
     "execution_count": 16,
     "metadata": {},
     "output_type": "execute_result"
    }
   ],
   "source": [
    "similarityMatrix = linear_kernel(vectorized, vectorized)\n",
    "# it finds the similarity with all other rows in matrix and returns a list \n",
    "similarityMatrix"
   ]
  },
  {
   "cell_type": "markdown",
   "id": "e6151317",
   "metadata": {},
   "source": [
    "Similar score matrix data can be fetched by using index of the required row. So if user searches for a particular movie, we need to get the index of that movie and then get the similartiy scores data. For this conversion instead of converting each time during search we can create a reverse map to store tiles as key & index as values. "
   ]
  },
  {
   "cell_type": "code",
   "execution_count": 17,
   "id": "eb0cda72",
   "metadata": {},
   "outputs": [
    {
     "data": {
      "text/plain": [
       "title\n",
       "Avatar                                      0\n",
       "Pirates of the Caribbean: At World's End    1\n",
       "Spectre                                     2\n",
       "The Dark Knight Rises                       3\n",
       "John Carter                                 4\n",
       "dtype: int64"
      ]
     },
     "execution_count": 17,
     "metadata": {},
     "output_type": "execute_result"
    }
   ],
   "source": [
    "indexMap = pd.Series(movies.index, index=movies['title'])\n",
    "indexMap.head()\n",
    "#indexMap.duplicated().sum()"
   ]
  },
  {
   "cell_type": "markdown",
   "id": "b63fa8f9",
   "metadata": {},
   "source": [
    "Once we get similarity scores for a particular movie, we need to sort them to find top 10 similar movies indices & then fetch the titles to recommend to the user. As any movie will have 1 as similarity score when compared with itself, its own index appears at top of list. So we ignore it and take next 10 items from the results. "
   ]
  },
  {
   "cell_type": "code",
   "execution_count": 18,
   "id": "ef94df80",
   "metadata": {
    "scrolled": true
   },
   "outputs": [
    {
     "data": {
      "text/plain": [
       "3604                       Apollo 18\n",
       "2130                    The American\n",
       "634                       The Matrix\n",
       "1341            The Inhabited Island\n",
       "529                 Tears of the Sun\n",
       "1610                           Hanna\n",
       "311     The Adventures of Pluto Nash\n",
       "847                         Semi-Pro\n",
       "775                        Supernova\n",
       "2628             Blood and Chocolate\n",
       "Name: title, dtype: object"
      ]
     },
     "execution_count": 18,
     "metadata": {},
     "output_type": "execute_result"
    }
   ],
   "source": [
    "#sorting\n",
    "sim_sorted = np.argsort(similarityMatrix[0])\n",
    "#top 10 \n",
    "sim_indices = sim_sorted[::-1][:11]\n",
    "#titles\n",
    "sim_titles = movies.iloc[sim_indices]['title']\n",
    "sim_titles[1:]"
   ]
  },
  {
   "cell_type": "code",
   "execution_count": 19,
   "id": "c8149b15",
   "metadata": {},
   "outputs": [],
   "source": [
    "def overviewRecommender(name):\n",
    "    index = indexMap[name]\n",
    "    scores = similarityMatrix[index]\n",
    "    print(\"Top 10 similarity scores\", np.sort(scores)[::-1][1:11])\n",
    "    sim_sorted = np.argsort(scores)\n",
    "    top_10 = sim_sorted[::-1][1:11]\n",
    "    print(top_10)\n",
    "    recommendations = movies.iloc[top_10]['title']\n",
    "    return recommendations"
   ]
  },
  {
   "cell_type": "code",
   "execution_count": 20,
   "id": "7153cd70",
   "metadata": {
    "scrolled": true
   },
   "outputs": [
    {
     "name": "stdout",
     "output_type": "stream",
     "text": [
      "Top 10 similarity scores [0.28269378 0.24281586 0.223084   0.20914974 0.18502292 0.16479718\n",
      " 0.14647248 0.13076654 0.11323179 0.11282744]\n",
      "[   5   38   20   30 1534  953 1720 2740 3216 1572]\n"
     ]
    },
    {
     "data": {
      "text/plain": [
       "5                    Spider-Man 3\n",
       "38       The Amazing Spider-Man 2\n",
       "20         The Amazing Spider-Man\n",
       "30                   Spider-Man 2\n",
       "1534                Arachnophobia\n",
       "953     Gremlins 2: The New Batch\n",
       "1720                     Kick-Ass\n",
       "2740                  The New Guy\n",
       "3216                     Election\n",
       "1572    Forgetting Sarah Marshall\n",
       "Name: title, dtype: object"
      ]
     },
     "execution_count": 20,
     "metadata": {},
     "output_type": "execute_result"
    }
   ],
   "source": [
    "overviewRecommender('Spider-Man')"
   ]
  },
  {
   "cell_type": "code",
   "execution_count": null,
   "id": "647cb68e",
   "metadata": {},
   "outputs": [],
   "source": []
  }
 ],
 "metadata": {
  "kernelspec": {
   "display_name": "Python 3 (ipykernel)",
   "language": "python",
   "name": "python3"
  },
  "language_info": {
   "codemirror_mode": {
    "name": "ipython",
    "version": 3
   },
   "file_extension": ".py",
   "mimetype": "text/x-python",
   "name": "python",
   "nbconvert_exporter": "python",
   "pygments_lexer": "ipython3",
   "version": "3.8.10"
  }
 },
 "nbformat": 4,
 "nbformat_minor": 5
}
