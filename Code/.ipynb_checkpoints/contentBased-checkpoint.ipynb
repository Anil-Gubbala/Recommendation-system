{
 "cells": [
  {
   "cell_type": "code",
   "execution_count": 21,
   "id": "c34ac57f",
   "metadata": {},
   "outputs": [],
   "source": [
    "from sklearn.feature_extraction.text import TfidfVectorizer\n",
    "from sklearn.metrics.pairwise import linear_kernel"
   ]
  },
  {
   "cell_type": "code",
   "execution_count": 22,
   "id": "280d77ec",
   "metadata": {},
   "outputs": [],
   "source": [
    "%%capture capt\n",
    "%run userAnalysis.ipynb"
   ]
  },
  {
   "cell_type": "code",
   "execution_count": 23,
   "id": "6caca8c0",
   "metadata": {},
   "outputs": [
    {
     "data": {
      "text/plain": [
       "0    In the 22nd century, a paraplegic Marine is di...\n",
       "1    Captain Barbossa, long believed to be dead, ha...\n",
       "2    A cryptic message from Bond’s past sends him o...\n",
       "3    Following the death of District Attorney Harve...\n",
       "4    John Carter is a war-weary, former military ca...\n",
       "Name: overview, dtype: object"
      ]
     },
     "execution_count": 23,
     "metadata": {},
     "output_type": "execute_result"
    }
   ],
   "source": [
    "movies['overview'].head()"
   ]
  },
  {
   "cell_type": "code",
   "execution_count": 24,
   "id": "1e609231",
   "metadata": {},
   "outputs": [
    {
     "name": "stdout",
     "output_type": "stream",
     "text": [
      "shape (4803, 20978)\n"
     ]
    }
   ],
   "source": [
    "vectorizer = TfidfVectorizer(stop_words='english')\n",
    "vectorized = vectorizer.fit_transform(movies['overview'])\n",
    "print(\"shape\" , vectorized.shape)\n",
    "# it is mxn matrix with m equal to the total rows of  dataset. \n",
    "# n is total no of different words used in overview column\n",
    "# now if given a row or title we need to find other rows with similar data in the matrix"
   ]
  },
  {
   "cell_type": "code",
   "execution_count": 25,
   "id": "79fcd1da",
   "metadata": {},
   "outputs": [
    {
     "data": {
      "text/plain": [
       "array([[1.        , 0.        , 0.        , ..., 0.        , 0.        ,\n",
       "        0.        ],\n",
       "       [0.        , 1.        , 0.        , ..., 0.02160533, 0.        ,\n",
       "        0.        ],\n",
       "       [0.        , 0.        , 1.        , ..., 0.01488159, 0.        ,\n",
       "        0.        ],\n",
       "       ...,\n",
       "       [0.        , 0.02160533, 0.01488159, ..., 1.        , 0.01609091,\n",
       "        0.00701914],\n",
       "       [0.        , 0.        , 0.        , ..., 0.01609091, 1.        ,\n",
       "        0.01171696],\n",
       "       [0.        , 0.        , 0.        , ..., 0.00701914, 0.01171696,\n",
       "        1.        ]])"
      ]
     },
     "execution_count": 25,
     "metadata": {},
     "output_type": "execute_result"
    }
   ],
   "source": [
    "similarityMatrix = linear_kernel(vectorized, vectorized)\n",
    "# it finds the similarity with all other rows in matrix and returns a list \n",
    "similarityMatrix"
   ]
  },
  {
   "cell_type": "markdown",
   "id": "e6151317",
   "metadata": {},
   "source": [
    "Similar score matrix data can be fetched by using index of the required row. So if user searches for a particular movie, we need to get the index of that movie and then get the similartiy scores data. For this conversion instead of converting each time during search we can create a reverse map to store tiles as key & index as values. "
   ]
  },
  {
   "cell_type": "code",
   "execution_count": 26,
   "id": "eb0cda72",
   "metadata": {},
   "outputs": [
    {
     "data": {
      "text/plain": [
       "tmdbId\n",
       "19995     0\n",
       "285       1\n",
       "206647    2\n",
       "49026     3\n",
       "49529     4\n",
       "dtype: int64"
      ]
     },
     "execution_count": 26,
     "metadata": {},
     "output_type": "execute_result"
    }
   ],
   "source": [
    "indexMap = pd.Series(movies.index, index=movies['tmdbId'])\n",
    "indexMap.head()\n",
    "#indexMap.duplicated().sum()"
   ]
  },
  {
   "cell_type": "markdown",
   "id": "b63fa8f9",
   "metadata": {},
   "source": [
    "Once we get similarity scores for a particular movie, we need to sort them to find top 10 similar movies indices & then fetch the titles to recommend to the user. As any movie will have 1 as similarity score when compared with itself, its own index appears at top of list. So we ignore it and take next 10 items from the results. "
   ]
  },
  {
   "cell_type": "code",
   "execution_count": 27,
   "id": "ef94df80",
   "metadata": {
    "scrolled": true
   },
   "outputs": [
    {
     "data": {
      "text/plain": [
       "3604                       Apollo 18\n",
       "2130                    The American\n",
       "634                       The Matrix\n",
       "1341            The Inhabited Island\n",
       "529                 Tears of the Sun\n",
       "1610                           Hanna\n",
       "311     The Adventures of Pluto Nash\n",
       "847                         Semi-Pro\n",
       "775                        Supernova\n",
       "2628             Blood and Chocolate\n",
       "Name: title, dtype: object"
      ]
     },
     "execution_count": 27,
     "metadata": {},
     "output_type": "execute_result"
    }
   ],
   "source": [
    "#sorting\n",
    "sim_sorted = np.argsort(similarityMatrix[0])\n",
    "#top 10 \n",
    "sim_indices = sim_sorted[::-1][:11]\n",
    "#titles\n",
    "sim_titles = movies.iloc[sim_indices]['title']\n",
    "sim_titles[1:]"
   ]
  },
  {
   "cell_type": "code",
   "execution_count": 103,
   "id": "c8149b15",
   "metadata": {},
   "outputs": [],
   "source": [
    "def overviewRecommender(tmdbId):\n",
    "    index = indexMap[tmdbId]\n",
    "    scores = similarityMatrix[index]\n",
    "    score_sorted = np.sort(scores)\n",
    "    score_index = np.argsort(scores)\n",
    "    top_10 = score_index[::-1][1:11]\n",
    "    recommendations = np.array(movies.iloc[top_10]['tmdbId'])\n",
    "    return recommendations,score_sorted[::-1][1:11]"
   ]
  },
  {
   "cell_type": "code",
   "execution_count": 29,
   "id": "7153cd70",
   "metadata": {
    "scrolled": true
   },
   "outputs": [
    {
     "name": "stdout",
     "output_type": "stream",
     "text": [
      "Top 10 similarity scores [0.18681001 0.17015105 0.13230697 0.12393265 0.12248959 0.10469903\n",
      " 0.10091388 0.09799623 0.09447938 0.09313854]\n",
      "[3604 2130  634 1341  529 1610  311  847  775 2628]\n"
     ]
    },
    {
     "data": {
      "text/plain": [
       "3604                       Apollo 18\n",
       "2130                    The American\n",
       "634                       The Matrix\n",
       "1341            The Inhabited Island\n",
       "529                 Tears of the Sun\n",
       "1610                           Hanna\n",
       "311     The Adventures of Pluto Nash\n",
       "847                         Semi-Pro\n",
       "775                        Supernova\n",
       "2628             Blood and Chocolate\n",
       "Name: title, dtype: object"
      ]
     },
     "execution_count": 29,
     "metadata": {},
     "output_type": "execute_result"
    }
   ],
   "source": [
    "overviewRecommender(19995)"
   ]
  },
  {
   "cell_type": "code",
   "execution_count": 104,
   "id": "4d214b37",
   "metadata": {},
   "outputs": [
    {
     "name": "stdout",
     "output_type": "stream",
     "text": [
      "userId :  217\n",
      "total movies rated :  79\n",
      "avg ratings : 4.265822784810126\n"
     ]
    },
    {
     "data": {
      "text/plain": [
       "3219                                       Armageddon\n",
       "3525                                       Spider-Man\n",
       "4516                                               X2\n",
       "5211     Star Wars: Episode II - Attack of the Clones\n",
       "5453        Star Wars: Episode I - The Phantom Menace\n",
       "                             ...                     \n",
       "61117                                       Airplane!\n",
       "61639                                    Animal House\n",
       "62737                              Young Frankenstein\n",
       "63275                           From Russia with Love\n",
       "65762                        The Kentucky Fried Movie\n",
       "Name: title, Length: 79, dtype: object"
      ]
     },
     "execution_count": 104,
     "metadata": {},
     "output_type": "execute_result"
    }
   ],
   "source": [
    "randomUser = random.choice(movieRatings['userId'])\n",
    "ratedMovies = movieRatings[movieRatings['userId']==randomUser]\n",
    "avgRating = np.mean(ratedMovies['rating'])\n",
    "print(\"userId : \", randomUser)\n",
    "print(\"total movies rated : \",len(ratedMovies))\n",
    "print(\"avg ratings :\" , avgRating)\n",
    "ratedMovies['title']"
   ]
  },
  {
   "cell_type": "code",
   "execution_count": 105,
   "id": "647cb68e",
   "metadata": {},
   "outputs": [],
   "source": [
    "def contentBasedRecom(randomUser):\n",
    "    likedMovies = ratedMovies[ratedMovies['rating'] >= avgRating ]\n",
    "    ids = likedMovies['tmdbId']\n",
    "    moviesDict = dict()\n",
    "    for i in ids:\n",
    "        movies,score = overviewRecommender(i)\n",
    "        for j in range(len(movies)):\n",
    "            if(movies[j] in moviesDict):\n",
    "                if(moviesDict[movies[j]] < score[j]):\n",
    "                    moviesDict.update({movies[j]:score[j]})\n",
    "            else:\n",
    "                moviesDict[movies[j]] = score[j]\n",
    "    return moviesDict\n",
    "    \n",
    "        "
   ]
  },
  {
   "cell_type": "code",
   "execution_count": 119,
   "id": "75015b04",
   "metadata": {},
   "outputs": [
    {
     "data": {
      "text/plain": [
       "array([ 18712,  49538,  36668,  36657,   2080,   7504, 356987,  26428,\n",
       "         9433,   9824,   1895, 333355,   1893,  10179,  27329,   1891,\n",
       "         5820,   9869,   1892,  39833,   1894, 193610,  13515,  17768,\n",
       "       146203,  18885,    218,  87101,  53457,    296,    534,  92182,\n",
       "        12090,  11648,  20024, 157909,    810,  10192,    808,  12220,\n",
       "       417859,   9716,  11091,  11247,  82505,  14442,   1597,  39451,\n",
       "        10571,  20766,  60307,  82693,  18808, 254904,   9754,    693,\n",
       "        82650, 361505,  53862,  16205,   1389,    809, 294272,  17047,\n",
       "        16300,   8584,   2310,    848,     85,    177,  67911,    818,\n",
       "       354110,     58,     87, 268171, 125052,    542,  68812,  49081,\n",
       "         8060, 266857,  11615,  16633, 332411,   1907,  94348,   4148,\n",
       "          157,    154,    168,    172, 192577,  54138,    174, 188927,\n",
       "        34016,  11935,  18886,   2275,  13909, 279759,  10592, 373314,\n",
       "         9422,   1885,   8078, 205587,     11,  18442,   9550, 407887,\n",
       "        12183,   1735,  52032,   8665,   8963, 137094,    935,   9331,\n",
       "        11973,   4614,   5125,   6623,  26171,  37137,  10074, 287948,\n",
       "         9335,   8649,   7220,    640,  84329,   4108, 256274,  50837,\n",
       "        44092,    790,  17610,  20981,     89,  10136,  86812,   1572,\n",
       "         1573,   1571,  47964,  62008,  68718, 137113, 254128,  14295,\n",
       "          253,    657,  31668, 153397,  10550,    691,    667,    700,\n",
       "         8953,   8619,  41144,  10743,  42222,  10748,  10201,  22897,\n",
       "       223485,  16096,  10133, 265208,  11072,   7501, 137093,   5852,\n",
       "       157354,    920,   9982,    189,    187,  11932,  10734,  48463,\n",
       "        27342, 241554,  37718,   1424,  16653,  59861,   7288,   1391,\n",
       "        11395,  20737,  71547, 292483, 201088,  30867, 109431,  76617,\n",
       "         3170,  49013, 195589,  14538,  11823,   8922, 190847,   8469,\n",
       "        13183, 194662,   6020, 346081,  15059, 271331,  36593,  13518,\n",
       "         4551,  12123,  11190,   9388,  96534,    180,  51588,  13476,\n",
       "        12779,   8617,   2621,  13805,  46420,   2105,  43931,    165,\n",
       "          196,  12589,  80321,   9517,  79161, 239566,  53113,  58151,\n",
       "          401,    817,   4688,  32740, 367551,  93456,    699,  17345,\n",
       "         4474,    306,     96,   2034,    320,   9625, 263503,  22102,\n",
       "        50348,  10117,  11967,  43306,  39541,   9952,  47534,  13064,\n",
       "       242166,  89492,   9208, 296099, 135397,  41479,    329, 227159,\n",
       "       205584,   1924,  88751,   1408, 331745,   8669,  82696,  74725,\n",
       "        39845,   9451,    838,  10013,  54702,  22820, 192102,  36670,\n",
       "          708,    707,  13523, 159770,   8363,  11887,  37735, 157386,\n",
       "        57214,   9557,    152,    503,  55301, 159824, 256040,  60599,\n",
       "         2493,  62764,  10156,  11130,  46435,   7341,  49022,   1544,\n",
       "        10320,  13027,  48289,   9697,  74084,  14405,   7873,  27845,\n",
       "        10765, 226486, 157185, 153795,  52449, 246403,  25520,  27585,\n",
       "        10478,  27983,  72570,  12177,    239,  10982,   4958,  77953,\n",
       "        11565,   9260,  46138,  43610,  10162, 103903,   1493,  11665,\n",
       "        18238,   2779,  52067, 301748,  10204,    634,  11113, 303858,\n",
       "        21755, 375290,  11397,    240, 190955,    242,  29920,  15745,\n",
       "        16358,  82507, 278348, 157847,  77948,    646,  39180,    712,\n",
       "          500,    681,    179,  10764, 206647,    660,  13649,  36047,\n",
       "        24662,   9614,   9593,  45658,    641,  72976,  16471,  34314,\n",
       "        10724, 253626,  12596,  15639,   5137, 211557, 214756,  14576,\n",
       "         9798,   4258, 347126,  11635,   2370, 209274,  83860, 325133,\n",
       "       139038,   4232,  89861, 173931,   4953,   1435,     75,   9535,\n",
       "         9676,  27723])"
      ]
     },
     "execution_count": 119,
     "metadata": {},
     "output_type": "execute_result"
    }
   ],
   "source": [
    "moviesDict = contentBasedRecom(randomUser)\n",
    "recommendedMovieIds = moviesDict.keys()\n",
    "np.array(list(recommendedMovieIds))"
   ]
  },
  {
   "cell_type": "code",
   "execution_count": 87,
   "id": "e49b3320",
   "metadata": {},
   "outputs": [
    {
     "data": {
      "text/plain": [
       "range(0, 10)"
      ]
     },
     "execution_count": 87,
     "metadata": {},
     "output_type": "execute_result"
    }
   ],
   "source": [
    "range(10)"
   ]
  }
 ],
 "metadata": {
  "kernelspec": {
   "display_name": "Python 3 (ipykernel)",
   "language": "python",
   "name": "python3"
  },
  "language_info": {
   "codemirror_mode": {
    "name": "ipython",
    "version": 3
   },
   "file_extension": ".py",
   "mimetype": "text/x-python",
   "name": "python",
   "nbconvert_exporter": "python",
   "pygments_lexer": "ipython3",
   "version": "3.8.10"
  }
 },
 "nbformat": 4,
 "nbformat_minor": 5
}
