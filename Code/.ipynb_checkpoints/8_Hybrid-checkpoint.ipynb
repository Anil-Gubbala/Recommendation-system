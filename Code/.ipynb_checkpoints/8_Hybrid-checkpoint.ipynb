{
 "cells": [
  {
   "cell_type": "code",
   "execution_count": 111,
   "id": "f543339b",
   "metadata": {},
   "outputs": [],
   "source": [
    "%%capture capt\n",
    "%run 7_SVD.ipynb"
   ]
  },
  {
   "cell_type": "code",
   "execution_count": 140,
   "id": "730ed7ce",
   "metadata": {},
   "outputs": [],
   "source": [
    "def getHybrdRecommendations(userId):\n",
    "    contentRecommended = getContentRecomMovies(userId, contentSimilarity)\n",
    "    #sns.histplot(contentRecommended['score'])\n",
    "    svdRatings = []\n",
    "    for movie in contentRecommended:\n",
    "        print(movie)\n",
    "        prediction = svd.predict(randomUser, movie)\n",
    "        svdRatings.append(prediction.est)\n",
    "    hybridRecommended = contentRecommended\n",
    "    hybridRecommended['score'] = svdRatings\n",
    "    sns.histplot(hybridRecommended['score'])\n",
    "    hybridRecommended = hybridRecommended.sort_values(['score'],ascending=False)\n",
    "    return hybridRecommended[:11]"
   ]
  },
  {
   "cell_type": "code",
   "execution_count": 128,
   "id": "847cf226",
   "metadata": {},
   "outputs": [
    {
     "name": "stdout",
     "output_type": "stream",
     "text": [
      "userId :  293\n",
      "Total movies rated :  59\n",
      "Avg ratings : 3.4237288135593222\n",
      "Top rated movies: \n"
     ]
    },
    {
     "data": {
      "text/plain": [
       "2220                              The Fast and the Furious\n",
       "47539                                   The Princess Bride\n",
       "41598                                  Edward Scissorhands\n",
       "4361     Pirates of the Caribbean: The Curse of the Bla...\n",
       "53830                                   American History X\n",
       "44919                                               Aliens\n",
       "57997                                         Best in Show\n",
       "37931                                     The Last Emperor\n",
       "46560                       Crouching Tiger, Hidden Dragon\n",
       "56509                                          My Dog Skip\n",
       "30517                                  Blast from the Past\n",
       "49690                           10 Things I Hate About You\n",
       "24971                                         A Bug's Life\n",
       "21672                                                Shrek\n",
       "4238              Harry Potter and the Philosopher's Stone\n",
       "38810                        Star Trek IV: The Voyage Home\n",
       "32189                                            Toy Story\n",
       "52570                                2001: A Space Odyssey\n",
       "63897    Dr. Strangelove or: How I Learned to Stop Worr...\n",
       "6048     The Lord of the Rings: The Fellowship of the Ring\n",
       "Name: title, dtype: object"
      ]
     },
     "execution_count": 128,
     "metadata": {},
     "output_type": "execute_result"
    }
   ],
   "source": [
    "randomUser = random.choice(movieRatings['userId'])\n",
    "ratedMovies = movieRatings[movieRatings['userId']==randomUser]\n",
    "avgRating = np.mean(ratedMovies['rating'])\n",
    "topRatedMovies = ratedMovies\n",
    "topRatedMovies = topRatedMovies.sort_values(['rating'],ascending=False)\n",
    "print(\"userId : \", randomUser)\n",
    "print(\"Total movies rated : \",len(ratedMovies))\n",
    "print(\"Avg ratings :\" , avgRating)\n",
    "print(\"Top rated movies: \")\n",
    "topRatedMovies['title'][:20]"
   ]
  },
  {
   "cell_type": "code",
   "execution_count": 141,
   "id": "9bc48a7a",
   "metadata": {},
   "outputs": [
    {
     "ename": "TypeError",
     "evalue": "cannot unpack non-iterable int object",
     "output_type": "error",
     "traceback": [
      "\u001b[0;31m---------------------------------------------------------------------------\u001b[0m",
      "\u001b[0;31mTypeError\u001b[0m                                 Traceback (most recent call last)",
      "\u001b[0;32m/tmp/ipykernel_24815/2443064381.py\u001b[0m in \u001b[0;36m<module>\u001b[0;34m\u001b[0m\n\u001b[0;32m----> 1\u001b[0;31m \u001b[0mgetHybrdRecommendations\u001b[0m\u001b[0;34m(\u001b[0m\u001b[0mrandomUser\u001b[0m\u001b[0;34m)\u001b[0m\u001b[0;34m\u001b[0m\u001b[0;34m\u001b[0m\u001b[0m\n\u001b[0m",
      "\u001b[0;32m/tmp/ipykernel_24815/328440037.py\u001b[0m in \u001b[0;36mgetHybrdRecommendations\u001b[0;34m(userId)\u001b[0m\n\u001b[1;32m      3\u001b[0m     \u001b[0;31m#sns.histplot(contentRecommended['score'])\u001b[0m\u001b[0;34m\u001b[0m\u001b[0;34m\u001b[0m\u001b[0;34m\u001b[0m\u001b[0m\n\u001b[1;32m      4\u001b[0m     \u001b[0msvdRatings\u001b[0m \u001b[0;34m=\u001b[0m \u001b[0;34m[\u001b[0m\u001b[0;34m]\u001b[0m\u001b[0;34m\u001b[0m\u001b[0;34m\u001b[0m\u001b[0m\n\u001b[0;32m----> 5\u001b[0;31m     \u001b[0;32mfor\u001b[0m \u001b[0mmovie\u001b[0m\u001b[0;34m,\u001b[0m\u001b[0mindex\u001b[0m \u001b[0;32min\u001b[0m \u001b[0mcontentRecommended\u001b[0m\u001b[0;34m[\u001b[0m\u001b[0;34m'movieId'\u001b[0m\u001b[0;34m]\u001b[0m\u001b[0;34m:\u001b[0m\u001b[0;34m\u001b[0m\u001b[0;34m\u001b[0m\u001b[0m\n\u001b[0m\u001b[1;32m      6\u001b[0m         \u001b[0mprint\u001b[0m\u001b[0;34m(\u001b[0m\u001b[0mindex\u001b[0m\u001b[0;34m)\u001b[0m\u001b[0;34m\u001b[0m\u001b[0;34m\u001b[0m\u001b[0m\n\u001b[1;32m      7\u001b[0m         \u001b[0mprediction\u001b[0m \u001b[0;34m=\u001b[0m \u001b[0msvd\u001b[0m\u001b[0;34m.\u001b[0m\u001b[0mpredict\u001b[0m\u001b[0;34m(\u001b[0m\u001b[0mrandomUser\u001b[0m\u001b[0;34m,\u001b[0m \u001b[0mmovie\u001b[0m\u001b[0;34m)\u001b[0m\u001b[0;34m\u001b[0m\u001b[0;34m\u001b[0m\u001b[0m\n",
      "\u001b[0;31mTypeError\u001b[0m: cannot unpack non-iterable int object"
     ]
    }
   ],
   "source": [
    "getHybrdRecommendations(randomUser)"
   ]
  },
  {
   "cell_type": "code",
   "execution_count": 135,
   "id": "41a6e9d5",
   "metadata": {},
   "outputs": [
    {
     "data": {
      "text/html": [
       "<div>\n",
       "<style scoped>\n",
       "    .dataframe tbody tr th:only-of-type {\n",
       "        vertical-align: middle;\n",
       "    }\n",
       "\n",
       "    .dataframe tbody tr th {\n",
       "        vertical-align: top;\n",
       "    }\n",
       "\n",
       "    .dataframe thead th {\n",
       "        text-align: right;\n",
       "    }\n",
       "</style>\n",
       "<table border=\"1\" class=\"dataframe\">\n",
       "  <thead>\n",
       "    <tr style=\"text-align: right;\">\n",
       "      <th></th>\n",
       "      <th>movieId</th>\n",
       "      <th>score</th>\n",
       "      <th>titles</th>\n",
       "    </tr>\n",
       "  </thead>\n",
       "  <tbody>\n",
       "    <tr>\n",
       "      <th>7</th>\n",
       "      <td>7153</td>\n",
       "      <td>0.912415</td>\n",
       "      <td>Furious 7</td>\n",
       "    </tr>\n",
       "    <tr>\n",
       "      <th>6</th>\n",
       "      <td>5952</td>\n",
       "      <td>0.813651</td>\n",
       "      <td>Fast Five</td>\n",
       "    </tr>\n",
       "    <tr>\n",
       "      <th>10</th>\n",
       "      <td>4993</td>\n",
       "      <td>0.813651</td>\n",
       "      <td>Harry Potter and the Chamber of Secrets</td>\n",
       "    </tr>\n",
       "    <tr>\n",
       "      <th>39</th>\n",
       "      <td>1375</td>\n",
       "      <td>0.796279</td>\n",
       "      <td>Harry Potter and the Order of the Phoenix</td>\n",
       "    </tr>\n",
       "    <tr>\n",
       "      <th>2</th>\n",
       "      <td>5816</td>\n",
       "      <td>0.712641</td>\n",
       "      <td>Pirates of the Caribbean: At World's End</td>\n",
       "    </tr>\n",
       "    <tr>\n",
       "      <th>...</th>\n",
       "      <td>...</td>\n",
       "      <td>...</td>\n",
       "      <td>...</td>\n",
       "    </tr>\n",
       "    <tr>\n",
       "      <th>30</th>\n",
       "      <td>98175</td>\n",
       "      <td>0.134938</td>\n",
       "      <td>Magic Mike</td>\n",
       "    </tr>\n",
       "    <tr>\n",
       "      <th>60</th>\n",
       "      <td>31660</td>\n",
       "      <td>0.128185</td>\n",
       "      <td>History of the World: Part I</td>\n",
       "    </tr>\n",
       "    <tr>\n",
       "      <th>19</th>\n",
       "      <td>31221</td>\n",
       "      <td>0.122971</td>\n",
       "      <td>High Anxiety</td>\n",
       "    </tr>\n",
       "    <tr>\n",
       "      <th>20</th>\n",
       "      <td>10</td>\n",
       "      <td>0.120445</td>\n",
       "      <td>Patton</td>\n",
       "    </tr>\n",
       "    <tr>\n",
       "      <th>70</th>\n",
       "      <td>95449</td>\n",
       "      <td>0.111680</td>\n",
       "      <td>The Hustler</td>\n",
       "    </tr>\n",
       "  </tbody>\n",
       "</table>\n",
       "<p>75 rows × 3 columns</p>\n",
       "</div>"
      ],
      "text/plain": [
       "    movieId     score                                     titles\n",
       "7      7153  0.912415                                  Furious 7\n",
       "6      5952  0.813651                                  Fast Five\n",
       "10     4993  0.813651    Harry Potter and the Chamber of Secrets\n",
       "39     1375  0.796279  Harry Potter and the Order of the Phoenix\n",
       "2      5816  0.712641   Pirates of the Caribbean: At World's End\n",
       "..      ...       ...                                        ...\n",
       "30    98175  0.134938                                 Magic Mike\n",
       "60    31660  0.128185               History of the World: Part I\n",
       "19    31221  0.122971                               High Anxiety\n",
       "20       10  0.120445                                     Patton\n",
       "70    95449  0.111680                                The Hustler\n",
       "\n",
       "[75 rows x 3 columns]"
      ]
     },
     "execution_count": 135,
     "metadata": {},
     "output_type": "execute_result"
    }
   ],
   "source": [
    "getContentRecomMovies(randomUser,contentSimilarity)"
   ]
  },
  {
   "cell_type": "code",
   "execution_count": 138,
   "id": "a9b43ecd",
   "metadata": {},
   "outputs": [
    {
     "data": {
      "text/plain": [
       "Int64Index([ 7,  6, 10, 39,  2, 40,  3, 67,  4, 41, 47, 57, 25,  5, 65,  8, 33,\n",
       "            68, 42, 17, 58, 71, 66,  0, 34, 26, 72, 63, 18,  1, 11, 35, 52, 73,\n",
       "            48, 64, 43, 29, 13,  9, 55, 14, 23, 37, 27, 53, 28, 15, 74, 45, 49,\n",
       "            44, 36, 59, 16, 56, 61, 12, 46, 31, 24, 32, 54, 21, 22, 38, 69, 62,\n",
       "            50, 51, 30, 60, 19, 20, 70],\n",
       "           dtype='int64')"
      ]
     },
     "execution_count": 138,
     "metadata": {},
     "output_type": "execute_result"
    }
   ],
   "source": [
    "a = getContentRecomMovies(randomUser,contentSimilarity)\n",
    "a.index\n",
    "+ contentRecommended.loc[movieIdIndex[movie]].score"
   ]
  }
 ],
 "metadata": {
  "kernelspec": {
   "display_name": "Python 3 (ipykernel)",
   "language": "python",
   "name": "python3"
  },
  "language_info": {
   "codemirror_mode": {
    "name": "ipython",
    "version": 3
   },
   "file_extension": ".py",
   "mimetype": "text/x-python",
   "name": "python",
   "nbconvert_exporter": "python",
   "pygments_lexer": "ipython3",
   "version": "3.8.10"
  }
 },
 "nbformat": 4,
 "nbformat_minor": 5
}
