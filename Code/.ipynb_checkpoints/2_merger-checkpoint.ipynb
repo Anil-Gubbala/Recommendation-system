{
 "cells": [
  {
   "cell_type": "code",
   "execution_count": 56,
   "id": "d191ef75",
   "metadata": {},
   "outputs": [],
   "source": [
    "%%capture capt \n",
    "%run 1_preprocessing.ipynb"
   ]
  },
  {
   "cell_type": "code",
   "execution_count": 57,
   "id": "6d115cec",
   "metadata": {},
   "outputs": [
    {
     "data": {
      "text/html": [
       "<div>\n",
       "<style scoped>\n",
       "    .dataframe tbody tr th:only-of-type {\n",
       "        vertical-align: middle;\n",
       "    }\n",
       "\n",
       "    .dataframe tbody tr th {\n",
       "        vertical-align: top;\n",
       "    }\n",
       "\n",
       "    .dataframe thead th {\n",
       "        text-align: right;\n",
       "    }\n",
       "</style>\n",
       "<table border=\"1\" class=\"dataframe\">\n",
       "  <thead>\n",
       "    <tr style=\"text-align: right;\">\n",
       "      <th></th>\n",
       "      <th>movieId</th>\n",
       "      <th>imdbId</th>\n",
       "      <th>tmdbId</th>\n",
       "    </tr>\n",
       "  </thead>\n",
       "  <tbody>\n",
       "    <tr>\n",
       "      <th>0</th>\n",
       "      <td>1</td>\n",
       "      <td>114709</td>\n",
       "      <td>862.0</td>\n",
       "    </tr>\n",
       "    <tr>\n",
       "      <th>1</th>\n",
       "      <td>2</td>\n",
       "      <td>113497</td>\n",
       "      <td>8844.0</td>\n",
       "    </tr>\n",
       "  </tbody>\n",
       "</table>\n",
       "</div>"
      ],
      "text/plain": [
       "   movieId  imdbId  tmdbId\n",
       "0        1  114709   862.0\n",
       "1        2  113497  8844.0"
      ]
     },
     "execution_count": 57,
     "metadata": {},
     "output_type": "execute_result"
    }
   ],
   "source": [
    "links.head(2)"
   ]
  },
  {
   "cell_type": "code",
   "execution_count": 58,
   "id": "83c2d5bd",
   "metadata": {},
   "outputs": [
    {
     "data": {
      "text/html": [
       "<div>\n",
       "<style scoped>\n",
       "    .dataframe tbody tr th:only-of-type {\n",
       "        vertical-align: middle;\n",
       "    }\n",
       "\n",
       "    .dataframe tbody tr th {\n",
       "        vertical-align: top;\n",
       "    }\n",
       "\n",
       "    .dataframe thead th {\n",
       "        text-align: right;\n",
       "    }\n",
       "</style>\n",
       "<table border=\"1\" class=\"dataframe\">\n",
       "  <thead>\n",
       "    <tr style=\"text-align: right;\">\n",
       "      <th></th>\n",
       "      <th>tmdbId</th>\n",
       "      <th>title</th>\n",
       "      <th>overview</th>\n",
       "      <th>popularity</th>\n",
       "      <th>vote_average</th>\n",
       "      <th>vote_count</th>\n",
       "      <th>genres</th>\n",
       "      <th>cast</th>\n",
       "      <th>directors</th>\n",
       "      <th>keywords</th>\n",
       "      <th>content</th>\n",
       "    </tr>\n",
       "  </thead>\n",
       "  <tbody>\n",
       "    <tr>\n",
       "      <th>0</th>\n",
       "      <td>19995</td>\n",
       "      <td>Avatar</td>\n",
       "      <td>In the 22nd century, a paraplegic Marine is di...</td>\n",
       "      <td>150.437577</td>\n",
       "      <td>7.2</td>\n",
       "      <td>11800</td>\n",
       "      <td>[action, adventure, fantasy, science_fiction]</td>\n",
       "      <td>[sam_worthington, zoe_saldana, sigourney_weave...</td>\n",
       "      <td>[james_cameron]</td>\n",
       "      <td>[culture_clash, future, space_war, space_colon...</td>\n",
       "      <td>culture_clash future space_war space_colony so...</td>\n",
       "    </tr>\n",
       "    <tr>\n",
       "      <th>1</th>\n",
       "      <td>285</td>\n",
       "      <td>Pirates of the Caribbean: At World's End</td>\n",
       "      <td>Captain Barbossa, long believed to be dead, ha...</td>\n",
       "      <td>139.082615</td>\n",
       "      <td>6.9</td>\n",
       "      <td>4500</td>\n",
       "      <td>[adventure, fantasy, action]</td>\n",
       "      <td>[johnny_depp, orlando_bloom, keira_knightley, ...</td>\n",
       "      <td>[gore_verbinski]</td>\n",
       "      <td>[ocean, drug_abuse, exotic_island, east_india_...</td>\n",
       "      <td>ocean drug_abuse exotic_island east_india_trad...</td>\n",
       "    </tr>\n",
       "  </tbody>\n",
       "</table>\n",
       "</div>"
      ],
      "text/plain": [
       "   tmdbId                                     title  \\\n",
       "0   19995                                    Avatar   \n",
       "1     285  Pirates of the Caribbean: At World's End   \n",
       "\n",
       "                                            overview  popularity  \\\n",
       "0  In the 22nd century, a paraplegic Marine is di...  150.437577   \n",
       "1  Captain Barbossa, long believed to be dead, ha...  139.082615   \n",
       "\n",
       "   vote_average  vote_count                                         genres  \\\n",
       "0           7.2       11800  [action, adventure, fantasy, science_fiction]   \n",
       "1           6.9        4500                   [adventure, fantasy, action]   \n",
       "\n",
       "                                                cast         directors  \\\n",
       "0  [sam_worthington, zoe_saldana, sigourney_weave...   [james_cameron]   \n",
       "1  [johnny_depp, orlando_bloom, keira_knightley, ...  [gore_verbinski]   \n",
       "\n",
       "                                            keywords  \\\n",
       "0  [culture_clash, future, space_war, space_colon...   \n",
       "1  [ocean, drug_abuse, exotic_island, east_india_...   \n",
       "\n",
       "                                             content  \n",
       "0  culture_clash future space_war space_colony so...  \n",
       "1  ocean drug_abuse exotic_island east_india_trad...  "
      ]
     },
     "execution_count": 58,
     "metadata": {},
     "output_type": "execute_result"
    }
   ],
   "source": [
    "movies.head(2)"
   ]
  },
  {
   "cell_type": "code",
   "execution_count": 59,
   "id": "93dfffd4",
   "metadata": {},
   "outputs": [
    {
     "data": {
      "text/html": [
       "<div>\n",
       "<style scoped>\n",
       "    .dataframe tbody tr th:only-of-type {\n",
       "        vertical-align: middle;\n",
       "    }\n",
       "\n",
       "    .dataframe tbody tr th {\n",
       "        vertical-align: top;\n",
       "    }\n",
       "\n",
       "    .dataframe thead th {\n",
       "        text-align: right;\n",
       "    }\n",
       "</style>\n",
       "<table border=\"1\" class=\"dataframe\">\n",
       "  <thead>\n",
       "    <tr style=\"text-align: right;\">\n",
       "      <th></th>\n",
       "      <th>tmdbId</th>\n",
       "      <th>title</th>\n",
       "      <th>overview</th>\n",
       "      <th>popularity</th>\n",
       "      <th>vote_average</th>\n",
       "      <th>vote_count</th>\n",
       "      <th>genres</th>\n",
       "      <th>cast</th>\n",
       "      <th>directors</th>\n",
       "      <th>keywords</th>\n",
       "      <th>content</th>\n",
       "      <th>movieId</th>\n",
       "      <th>imdbId</th>\n",
       "    </tr>\n",
       "  </thead>\n",
       "  <tbody>\n",
       "    <tr>\n",
       "      <th>0</th>\n",
       "      <td>19995</td>\n",
       "      <td>Avatar</td>\n",
       "      <td>In the 22nd century, a paraplegic Marine is di...</td>\n",
       "      <td>150.437577</td>\n",
       "      <td>7.2</td>\n",
       "      <td>11800</td>\n",
       "      <td>[action, adventure, fantasy, science_fiction]</td>\n",
       "      <td>[sam_worthington, zoe_saldana, sigourney_weave...</td>\n",
       "      <td>[james_cameron]</td>\n",
       "      <td>[culture_clash, future, space_war, space_colon...</td>\n",
       "      <td>culture_clash future space_war space_colony so...</td>\n",
       "      <td>72998</td>\n",
       "      <td>499549</td>\n",
       "    </tr>\n",
       "    <tr>\n",
       "      <th>1</th>\n",
       "      <td>285</td>\n",
       "      <td>Pirates of the Caribbean: At World's End</td>\n",
       "      <td>Captain Barbossa, long believed to be dead, ha...</td>\n",
       "      <td>139.082615</td>\n",
       "      <td>6.9</td>\n",
       "      <td>4500</td>\n",
       "      <td>[adventure, fantasy, action]</td>\n",
       "      <td>[johnny_depp, orlando_bloom, keira_knightley, ...</td>\n",
       "      <td>[gore_verbinski]</td>\n",
       "      <td>[ocean, drug_abuse, exotic_island, east_india_...</td>\n",
       "      <td>ocean drug_abuse exotic_island east_india_trad...</td>\n",
       "      <td>53125</td>\n",
       "      <td>449088</td>\n",
       "    </tr>\n",
       "  </tbody>\n",
       "</table>\n",
       "</div>"
      ],
      "text/plain": [
       "   tmdbId                                     title  \\\n",
       "0   19995                                    Avatar   \n",
       "1     285  Pirates of the Caribbean: At World's End   \n",
       "\n",
       "                                            overview  popularity  \\\n",
       "0  In the 22nd century, a paraplegic Marine is di...  150.437577   \n",
       "1  Captain Barbossa, long believed to be dead, ha...  139.082615   \n",
       "\n",
       "   vote_average  vote_count                                         genres  \\\n",
       "0           7.2       11800  [action, adventure, fantasy, science_fiction]   \n",
       "1           6.9        4500                   [adventure, fantasy, action]   \n",
       "\n",
       "                                                cast         directors  \\\n",
       "0  [sam_worthington, zoe_saldana, sigourney_weave...   [james_cameron]   \n",
       "1  [johnny_depp, orlando_bloom, keira_knightley, ...  [gore_verbinski]   \n",
       "\n",
       "                                            keywords  \\\n",
       "0  [culture_clash, future, space_war, space_colon...   \n",
       "1  [ocean, drug_abuse, exotic_island, east_india_...   \n",
       "\n",
       "                                             content  movieId  imdbId  \n",
       "0  culture_clash future space_war space_colony so...    72998  499549  \n",
       "1  ocean drug_abuse exotic_island east_india_trad...    53125  449088  "
      ]
     },
     "execution_count": 59,
     "metadata": {},
     "output_type": "execute_result"
    }
   ],
   "source": [
    "movies = movies.merge(links,on='tmdbId')\n",
    "movies.head(2)"
   ]
  },
  {
   "cell_type": "code",
   "execution_count": 60,
   "id": "4d52a40a",
   "metadata": {},
   "outputs": [
    {
     "data": {
      "text/plain": [
       "(3394, 13)"
      ]
     },
     "execution_count": 60,
     "metadata": {},
     "output_type": "execute_result"
    }
   ],
   "source": [
    "ids = ratings['movieId'].unique()\n",
    "movies = movies[movies['movieId'].isin(ids)]\n",
    "movies = movies.reset_index(drop=True)\n",
    "movies.shape"
   ]
  },
  {
   "cell_type": "code",
   "execution_count": 61,
   "id": "7f7bffdd",
   "metadata": {},
   "outputs": [
    {
     "data": {
      "text/html": [
       "<div>\n",
       "<style scoped>\n",
       "    .dataframe tbody tr th:only-of-type {\n",
       "        vertical-align: middle;\n",
       "    }\n",
       "\n",
       "    .dataframe tbody tr th {\n",
       "        vertical-align: top;\n",
       "    }\n",
       "\n",
       "    .dataframe thead th {\n",
       "        text-align: right;\n",
       "    }\n",
       "</style>\n",
       "<table border=\"1\" class=\"dataframe\">\n",
       "  <thead>\n",
       "    <tr style=\"text-align: right;\">\n",
       "      <th></th>\n",
       "      <th>tmdbId</th>\n",
       "      <th>title</th>\n",
       "      <th>overview</th>\n",
       "      <th>popularity</th>\n",
       "      <th>vote_average</th>\n",
       "      <th>vote_count</th>\n",
       "      <th>genres</th>\n",
       "      <th>cast</th>\n",
       "      <th>directors</th>\n",
       "      <th>keywords</th>\n",
       "      <th>content</th>\n",
       "      <th>movieId</th>\n",
       "      <th>imdbId</th>\n",
       "      <th>userId</th>\n",
       "      <th>rating</th>\n",
       "      <th>timestamp</th>\n",
       "    </tr>\n",
       "  </thead>\n",
       "  <tbody>\n",
       "    <tr>\n",
       "      <th>0</th>\n",
       "      <td>19995</td>\n",
       "      <td>Avatar</td>\n",
       "      <td>In the 22nd century, a paraplegic Marine is di...</td>\n",
       "      <td>150.437577</td>\n",
       "      <td>7.2</td>\n",
       "      <td>11800</td>\n",
       "      <td>[action, adventure, fantasy, science_fiction]</td>\n",
       "      <td>[sam_worthington, zoe_saldana, sigourney_weave...</td>\n",
       "      <td>[james_cameron]</td>\n",
       "      <td>[culture_clash, future, space_war, space_colon...</td>\n",
       "      <td>culture_clash future space_war space_colony so...</td>\n",
       "      <td>72998</td>\n",
       "      <td>499549</td>\n",
       "      <td>15</td>\n",
       "      <td>4.0</td>\n",
       "      <td>1261944230</td>\n",
       "    </tr>\n",
       "    <tr>\n",
       "      <th>1</th>\n",
       "      <td>19995</td>\n",
       "      <td>Avatar</td>\n",
       "      <td>In the 22nd century, a paraplegic Marine is di...</td>\n",
       "      <td>150.437577</td>\n",
       "      <td>7.2</td>\n",
       "      <td>11800</td>\n",
       "      <td>[action, adventure, fantasy, science_fiction]</td>\n",
       "      <td>[sam_worthington, zoe_saldana, sigourney_weave...</td>\n",
       "      <td>[james_cameron]</td>\n",
       "      <td>[culture_clash, future, space_war, space_colon...</td>\n",
       "      <td>culture_clash future space_war space_colony so...</td>\n",
       "      <td>72998</td>\n",
       "      <td>499549</td>\n",
       "      <td>26</td>\n",
       "      <td>3.5</td>\n",
       "      <td>1352597807</td>\n",
       "    </tr>\n",
       "  </tbody>\n",
       "</table>\n",
       "</div>"
      ],
      "text/plain": [
       "   tmdbId   title                                           overview  \\\n",
       "0   19995  Avatar  In the 22nd century, a paraplegic Marine is di...   \n",
       "1   19995  Avatar  In the 22nd century, a paraplegic Marine is di...   \n",
       "\n",
       "   popularity  vote_average  vote_count  \\\n",
       "0  150.437577           7.2       11800   \n",
       "1  150.437577           7.2       11800   \n",
       "\n",
       "                                          genres  \\\n",
       "0  [action, adventure, fantasy, science_fiction]   \n",
       "1  [action, adventure, fantasy, science_fiction]   \n",
       "\n",
       "                                                cast        directors  \\\n",
       "0  [sam_worthington, zoe_saldana, sigourney_weave...  [james_cameron]   \n",
       "1  [sam_worthington, zoe_saldana, sigourney_weave...  [james_cameron]   \n",
       "\n",
       "                                            keywords  \\\n",
       "0  [culture_clash, future, space_war, space_colon...   \n",
       "1  [culture_clash, future, space_war, space_colon...   \n",
       "\n",
       "                                             content  movieId  imdbId  userId  \\\n",
       "0  culture_clash future space_war space_colony so...    72998  499549      15   \n",
       "1  culture_clash future space_war space_colony so...    72998  499549      26   \n",
       "\n",
       "   rating   timestamp  \n",
       "0     4.0  1261944230  \n",
       "1     3.5  1352597807  "
      ]
     },
     "execution_count": 61,
     "metadata": {},
     "output_type": "execute_result"
    }
   ],
   "source": [
    "movieRatings = movies.merge(ratings,on='movieId')\n",
    "movieRatings.head(2)"
   ]
  },
  {
   "cell_type": "code",
   "execution_count": 62,
   "id": "e60bd466",
   "metadata": {},
   "outputs": [],
   "source": [
    "#movieRatings = movieRatings.drop(columns=['keywords','overview','genres','cast','directors'],errors='ignore')\n",
    "movieRatings = movieRatings[['tmdbId','movieId','title','userId','rating']]"
   ]
  },
  {
   "cell_type": "code",
   "execution_count": 63,
   "id": "4d5a6880",
   "metadata": {},
   "outputs": [
    {
     "data": {
      "text/plain": [
       "tmdbId     0\n",
       "movieId    0\n",
       "title      0\n",
       "userId     0\n",
       "rating     0\n",
       "dtype: int64"
      ]
     },
     "execution_count": 63,
     "metadata": {},
     "output_type": "execute_result"
    }
   ],
   "source": [
    "movieRatings.isna().sum()"
   ]
  },
  {
   "cell_type": "code",
   "execution_count": 64,
   "id": "a72acb24",
   "metadata": {},
   "outputs": [
    {
     "data": {
      "text/plain": [
       "3394"
      ]
     },
     "execution_count": 64,
     "metadata": {},
     "output_type": "execute_result"
    }
   ],
   "source": [
    "len(movies.tmdbId.unique())"
   ]
  },
  {
   "cell_type": "code",
   "execution_count": 65,
   "id": "1661974b",
   "metadata": {},
   "outputs": [
    {
     "data": {
      "text/plain": [
       "3394"
      ]
     },
     "execution_count": 65,
     "metadata": {},
     "output_type": "execute_result"
    }
   ],
   "source": [
    "len(movieRatings.tmdbId.unique())"
   ]
  },
  {
   "cell_type": "code",
   "execution_count": 66,
   "id": "cf0bc5cd",
   "metadata": {},
   "outputs": [
    {
     "data": {
      "text/plain": [
       "9066"
      ]
     },
     "execution_count": 66,
     "metadata": {},
     "output_type": "execute_result"
    }
   ],
   "source": [
    "len(ratings.movieId.unique())"
   ]
  },
  {
   "cell_type": "code",
   "execution_count": null,
   "id": "b785de92",
   "metadata": {},
   "outputs": [],
   "source": []
  }
 ],
 "metadata": {
  "kernelspec": {
   "display_name": "Python 3 (ipykernel)",
   "language": "python",
   "name": "python3"
  },
  "language_info": {
   "codemirror_mode": {
    "name": "ipython",
    "version": 3
   },
   "file_extension": ".py",
   "mimetype": "text/x-python",
   "name": "python",
   "nbconvert_exporter": "python",
   "pygments_lexer": "ipython3",
   "version": "3.8.10"
  }
 },
 "nbformat": 4,
 "nbformat_minor": 5
}
