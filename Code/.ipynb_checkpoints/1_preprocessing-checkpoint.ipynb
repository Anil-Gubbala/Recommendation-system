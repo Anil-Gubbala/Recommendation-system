{
 "cells": [
  {
   "cell_type": "code",
   "execution_count": 18,
   "id": "c34ac57f",
   "metadata": {},
   "outputs": [],
   "source": [
    "import pandas as pd\n",
    "import numpy as np\n",
    "import os\n",
    "import json\n",
    "import seaborn as sns\n",
    "from matplotlib import pyplot as plt\n",
    "import random "
   ]
  },
  {
   "cell_type": "markdown",
   "id": "85048da6",
   "metadata": {},
   "source": [
    "##### Load required datasets"
   ]
  },
  {
   "cell_type": "code",
   "execution_count": 19,
   "id": "6249e07a",
   "metadata": {},
   "outputs": [],
   "source": [
    "credits = pd.read_csv(\"../datasets/TMDB/tmdb_5000_credits.csv\")\n",
    "movies = pd.read_csv(\"../datasets/TMDB/tmdb_5000_movies.csv\")\n",
    "ratings = pd.read_csv(\"../datasets/The_Movies/ratings_small.csv\")\n",
    "links = pd.read_csv(\"../datasets/The_Movies/links_small.csv\")\n",
    "movies_unchanged = movies\n",
    "credits_unchanged = credits\n",
    "links_unchanged = links\n",
    "ratings_unchanged = ratings"
   ]
  },
  {
   "cell_type": "code",
   "execution_count": 20,
   "id": "21a29b17",
   "metadata": {},
   "outputs": [
    {
     "data": {
      "text/html": [
       "<div>\n",
       "<style scoped>\n",
       "    .dataframe tbody tr th:only-of-type {\n",
       "        vertical-align: middle;\n",
       "    }\n",
       "\n",
       "    .dataframe tbody tr th {\n",
       "        vertical-align: top;\n",
       "    }\n",
       "\n",
       "    .dataframe thead th {\n",
       "        text-align: right;\n",
       "    }\n",
       "</style>\n",
       "<table border=\"1\" class=\"dataframe\">\n",
       "  <thead>\n",
       "    <tr style=\"text-align: right;\">\n",
       "      <th></th>\n",
       "      <th>budget</th>\n",
       "      <th>genres</th>\n",
       "      <th>homepage</th>\n",
       "      <th>id</th>\n",
       "      <th>keywords</th>\n",
       "      <th>original_language</th>\n",
       "      <th>original_title</th>\n",
       "      <th>overview</th>\n",
       "      <th>popularity</th>\n",
       "      <th>production_companies</th>\n",
       "      <th>production_countries</th>\n",
       "      <th>release_date</th>\n",
       "      <th>revenue</th>\n",
       "      <th>runtime</th>\n",
       "      <th>spoken_languages</th>\n",
       "      <th>status</th>\n",
       "      <th>tagline</th>\n",
       "      <th>title</th>\n",
       "      <th>vote_average</th>\n",
       "      <th>vote_count</th>\n",
       "    </tr>\n",
       "  </thead>\n",
       "  <tbody>\n",
       "    <tr>\n",
       "      <th>0</th>\n",
       "      <td>237000000</td>\n",
       "      <td>[{\"id\": 28, \"name\": \"Action\"}, {\"id\": 12, \"nam...</td>\n",
       "      <td>http://www.avatarmovie.com/</td>\n",
       "      <td>19995</td>\n",
       "      <td>[{\"id\": 1463, \"name\": \"culture clash\"}, {\"id\":...</td>\n",
       "      <td>en</td>\n",
       "      <td>Avatar</td>\n",
       "      <td>In the 22nd century, a paraplegic Marine is di...</td>\n",
       "      <td>150.437577</td>\n",
       "      <td>[{\"name\": \"Ingenious Film Partners\", \"id\": 289...</td>\n",
       "      <td>[{\"iso_3166_1\": \"US\", \"name\": \"United States o...</td>\n",
       "      <td>2009-12-10</td>\n",
       "      <td>2787965087</td>\n",
       "      <td>162.0</td>\n",
       "      <td>[{\"iso_639_1\": \"en\", \"name\": \"English\"}, {\"iso...</td>\n",
       "      <td>Released</td>\n",
       "      <td>Enter the World of Pandora.</td>\n",
       "      <td>Avatar</td>\n",
       "      <td>7.2</td>\n",
       "      <td>11800</td>\n",
       "    </tr>\n",
       "    <tr>\n",
       "      <th>1</th>\n",
       "      <td>300000000</td>\n",
       "      <td>[{\"id\": 12, \"name\": \"Adventure\"}, {\"id\": 14, \"...</td>\n",
       "      <td>http://disney.go.com/disneypictures/pirates/</td>\n",
       "      <td>285</td>\n",
       "      <td>[{\"id\": 270, \"name\": \"ocean\"}, {\"id\": 726, \"na...</td>\n",
       "      <td>en</td>\n",
       "      <td>Pirates of the Caribbean: At World's End</td>\n",
       "      <td>Captain Barbossa, long believed to be dead, ha...</td>\n",
       "      <td>139.082615</td>\n",
       "      <td>[{\"name\": \"Walt Disney Pictures\", \"id\": 2}, {\"...</td>\n",
       "      <td>[{\"iso_3166_1\": \"US\", \"name\": \"United States o...</td>\n",
       "      <td>2007-05-19</td>\n",
       "      <td>961000000</td>\n",
       "      <td>169.0</td>\n",
       "      <td>[{\"iso_639_1\": \"en\", \"name\": \"English\"}]</td>\n",
       "      <td>Released</td>\n",
       "      <td>At the end of the world, the adventure begins.</td>\n",
       "      <td>Pirates of the Caribbean: At World's End</td>\n",
       "      <td>6.9</td>\n",
       "      <td>4500</td>\n",
       "    </tr>\n",
       "  </tbody>\n",
       "</table>\n",
       "</div>"
      ],
      "text/plain": [
       "      budget                                             genres  \\\n",
       "0  237000000  [{\"id\": 28, \"name\": \"Action\"}, {\"id\": 12, \"nam...   \n",
       "1  300000000  [{\"id\": 12, \"name\": \"Adventure\"}, {\"id\": 14, \"...   \n",
       "\n",
       "                                       homepage     id  \\\n",
       "0                   http://www.avatarmovie.com/  19995   \n",
       "1  http://disney.go.com/disneypictures/pirates/    285   \n",
       "\n",
       "                                            keywords original_language  \\\n",
       "0  [{\"id\": 1463, \"name\": \"culture clash\"}, {\"id\":...                en   \n",
       "1  [{\"id\": 270, \"name\": \"ocean\"}, {\"id\": 726, \"na...                en   \n",
       "\n",
       "                             original_title  \\\n",
       "0                                    Avatar   \n",
       "1  Pirates of the Caribbean: At World's End   \n",
       "\n",
       "                                            overview  popularity  \\\n",
       "0  In the 22nd century, a paraplegic Marine is di...  150.437577   \n",
       "1  Captain Barbossa, long believed to be dead, ha...  139.082615   \n",
       "\n",
       "                                production_companies  \\\n",
       "0  [{\"name\": \"Ingenious Film Partners\", \"id\": 289...   \n",
       "1  [{\"name\": \"Walt Disney Pictures\", \"id\": 2}, {\"...   \n",
       "\n",
       "                                production_countries release_date     revenue  \\\n",
       "0  [{\"iso_3166_1\": \"US\", \"name\": \"United States o...   2009-12-10  2787965087   \n",
       "1  [{\"iso_3166_1\": \"US\", \"name\": \"United States o...   2007-05-19   961000000   \n",
       "\n",
       "   runtime                                   spoken_languages    status  \\\n",
       "0    162.0  [{\"iso_639_1\": \"en\", \"name\": \"English\"}, {\"iso...  Released   \n",
       "1    169.0           [{\"iso_639_1\": \"en\", \"name\": \"English\"}]  Released   \n",
       "\n",
       "                                          tagline  \\\n",
       "0                     Enter the World of Pandora.   \n",
       "1  At the end of the world, the adventure begins.   \n",
       "\n",
       "                                      title  vote_average  vote_count  \n",
       "0                                    Avatar           7.2       11800  \n",
       "1  Pirates of the Caribbean: At World's End           6.9        4500  "
      ]
     },
     "execution_count": 20,
     "metadata": {},
     "output_type": "execute_result"
    }
   ],
   "source": [
    "movies.head(2)"
   ]
  },
  {
   "cell_type": "code",
   "execution_count": 21,
   "id": "410222c4",
   "metadata": {},
   "outputs": [
    {
     "data": {
      "text/html": [
       "<div>\n",
       "<style scoped>\n",
       "    .dataframe tbody tr th:only-of-type {\n",
       "        vertical-align: middle;\n",
       "    }\n",
       "\n",
       "    .dataframe tbody tr th {\n",
       "        vertical-align: top;\n",
       "    }\n",
       "\n",
       "    .dataframe thead th {\n",
       "        text-align: right;\n",
       "    }\n",
       "</style>\n",
       "<table border=\"1\" class=\"dataframe\">\n",
       "  <thead>\n",
       "    <tr style=\"text-align: right;\">\n",
       "      <th></th>\n",
       "      <th>genres</th>\n",
       "      <th>id</th>\n",
       "      <th>keywords</th>\n",
       "      <th>title</th>\n",
       "      <th>overview</th>\n",
       "      <th>popularity</th>\n",
       "      <th>vote_average</th>\n",
       "      <th>vote_count</th>\n",
       "    </tr>\n",
       "  </thead>\n",
       "  <tbody>\n",
       "    <tr>\n",
       "      <th>0</th>\n",
       "      <td>[{\"id\": 28, \"name\": \"Action\"}, {\"id\": 12, \"nam...</td>\n",
       "      <td>19995</td>\n",
       "      <td>[{\"id\": 1463, \"name\": \"culture clash\"}, {\"id\":...</td>\n",
       "      <td>Avatar</td>\n",
       "      <td>In the 22nd century, a paraplegic Marine is di...</td>\n",
       "      <td>150.437577</td>\n",
       "      <td>7.2</td>\n",
       "      <td>11800</td>\n",
       "    </tr>\n",
       "    <tr>\n",
       "      <th>1</th>\n",
       "      <td>[{\"id\": 12, \"name\": \"Adventure\"}, {\"id\": 14, \"...</td>\n",
       "      <td>285</td>\n",
       "      <td>[{\"id\": 270, \"name\": \"ocean\"}, {\"id\": 726, \"na...</td>\n",
       "      <td>Pirates of the Caribbean: At World's End</td>\n",
       "      <td>Captain Barbossa, long believed to be dead, ha...</td>\n",
       "      <td>139.082615</td>\n",
       "      <td>6.9</td>\n",
       "      <td>4500</td>\n",
       "    </tr>\n",
       "  </tbody>\n",
       "</table>\n",
       "</div>"
      ],
      "text/plain": [
       "                                              genres     id  \\\n",
       "0  [{\"id\": 28, \"name\": \"Action\"}, {\"id\": 12, \"nam...  19995   \n",
       "1  [{\"id\": 12, \"name\": \"Adventure\"}, {\"id\": 14, \"...    285   \n",
       "\n",
       "                                            keywords  \\\n",
       "0  [{\"id\": 1463, \"name\": \"culture clash\"}, {\"id\":...   \n",
       "1  [{\"id\": 270, \"name\": \"ocean\"}, {\"id\": 726, \"na...   \n",
       "\n",
       "                                      title  \\\n",
       "0                                    Avatar   \n",
       "1  Pirates of the Caribbean: At World's End   \n",
       "\n",
       "                                            overview  popularity  \\\n",
       "0  In the 22nd century, a paraplegic Marine is di...  150.437577   \n",
       "1  Captain Barbossa, long believed to be dead, ha...  139.082615   \n",
       "\n",
       "   vote_average  vote_count  \n",
       "0           7.2       11800  \n",
       "1           6.9        4500  "
      ]
     },
     "execution_count": 21,
     "metadata": {},
     "output_type": "execute_result"
    }
   ],
   "source": [
    "movies = movies[['genres','id','keywords','title','overview','popularity','vote_average','vote_count']]\n",
    "movies.head(2)"
   ]
  },
  {
   "cell_type": "markdown",
   "id": "2f2c8642",
   "metadata": {},
   "source": [
    "##### Rename the movie id column names , as they are different in different datasets. For TMDB using tmdbId"
   ]
  },
  {
   "cell_type": "code",
   "execution_count": 22,
   "id": "6188dae2",
   "metadata": {},
   "outputs": [
    {
     "data": {
      "text/html": [
       "<div>\n",
       "<style scoped>\n",
       "    .dataframe tbody tr th:only-of-type {\n",
       "        vertical-align: middle;\n",
       "    }\n",
       "\n",
       "    .dataframe tbody tr th {\n",
       "        vertical-align: top;\n",
       "    }\n",
       "\n",
       "    .dataframe thead th {\n",
       "        text-align: right;\n",
       "    }\n",
       "</style>\n",
       "<table border=\"1\" class=\"dataframe\">\n",
       "  <thead>\n",
       "    <tr style=\"text-align: right;\">\n",
       "      <th></th>\n",
       "      <th>tmdbId</th>\n",
       "      <th>cast</th>\n",
       "      <th>crew</th>\n",
       "    </tr>\n",
       "  </thead>\n",
       "  <tbody>\n",
       "    <tr>\n",
       "      <th>0</th>\n",
       "      <td>19995</td>\n",
       "      <td>[{\"cast_id\": 242, \"character\": \"Jake Sully\", \"...</td>\n",
       "      <td>[{\"credit_id\": \"52fe48009251416c750aca23\", \"de...</td>\n",
       "    </tr>\n",
       "    <tr>\n",
       "      <th>1</th>\n",
       "      <td>285</td>\n",
       "      <td>[{\"cast_id\": 4, \"character\": \"Captain Jack Spa...</td>\n",
       "      <td>[{\"credit_id\": \"52fe4232c3a36847f800b579\", \"de...</td>\n",
       "    </tr>\n",
       "    <tr>\n",
       "      <th>2</th>\n",
       "      <td>206647</td>\n",
       "      <td>[{\"cast_id\": 1, \"character\": \"James Bond\", \"cr...</td>\n",
       "      <td>[{\"credit_id\": \"54805967c3a36829b5002c41\", \"de...</td>\n",
       "    </tr>\n",
       "    <tr>\n",
       "      <th>3</th>\n",
       "      <td>49026</td>\n",
       "      <td>[{\"cast_id\": 2, \"character\": \"Bruce Wayne / Ba...</td>\n",
       "      <td>[{\"credit_id\": \"52fe4781c3a36847f81398c3\", \"de...</td>\n",
       "    </tr>\n",
       "    <tr>\n",
       "      <th>4</th>\n",
       "      <td>49529</td>\n",
       "      <td>[{\"cast_id\": 5, \"character\": \"John Carter\", \"c...</td>\n",
       "      <td>[{\"credit_id\": \"52fe479ac3a36847f813eaa3\", \"de...</td>\n",
       "    </tr>\n",
       "  </tbody>\n",
       "</table>\n",
       "</div>"
      ],
      "text/plain": [
       "   tmdbId                                               cast  \\\n",
       "0   19995  [{\"cast_id\": 242, \"character\": \"Jake Sully\", \"...   \n",
       "1     285  [{\"cast_id\": 4, \"character\": \"Captain Jack Spa...   \n",
       "2  206647  [{\"cast_id\": 1, \"character\": \"James Bond\", \"cr...   \n",
       "3   49026  [{\"cast_id\": 2, \"character\": \"Bruce Wayne / Ba...   \n",
       "4   49529  [{\"cast_id\": 5, \"character\": \"John Carter\", \"c...   \n",
       "\n",
       "                                                crew  \n",
       "0  [{\"credit_id\": \"52fe48009251416c750aca23\", \"de...  \n",
       "1  [{\"credit_id\": \"52fe4232c3a36847f800b579\", \"de...  \n",
       "2  [{\"credit_id\": \"54805967c3a36829b5002c41\", \"de...  \n",
       "3  [{\"credit_id\": \"52fe4781c3a36847f81398c3\", \"de...  \n",
       "4  [{\"credit_id\": \"52fe479ac3a36847f813eaa3\", \"de...  "
      ]
     },
     "execution_count": 22,
     "metadata": {},
     "output_type": "execute_result"
    }
   ],
   "source": [
    "\n",
    "movies = movies.rename(columns={\"id\":\"tmdbId\"})\n",
    "if('title' in credits):\n",
    "    credits = credits.drop(columns=[\"title\"])\n",
    "credits = credits.rename(columns={\"movie_id\":\"tmdbId\"})\n",
    "credits.head()"
   ]
  },
  {
   "cell_type": "markdown",
   "id": "d15dc6c8",
   "metadata": {},
   "source": [
    "##### Combine movies and credits to single dataset & check if duplicates exist"
   ]
  },
  {
   "cell_type": "code",
   "execution_count": 23,
   "id": "0c334e60",
   "metadata": {},
   "outputs": [
    {
     "name": "stdout",
     "output_type": "stream",
     "text": [
      "Duplicate movie id's conunt in movies df:  0\n",
      "Duplicate movie id's conunt in credits df:  0\n"
     ]
    },
    {
     "data": {
      "text/html": [
       "<div>\n",
       "<style scoped>\n",
       "    .dataframe tbody tr th:only-of-type {\n",
       "        vertical-align: middle;\n",
       "    }\n",
       "\n",
       "    .dataframe tbody tr th {\n",
       "        vertical-align: top;\n",
       "    }\n",
       "\n",
       "    .dataframe thead th {\n",
       "        text-align: right;\n",
       "    }\n",
       "</style>\n",
       "<table border=\"1\" class=\"dataframe\">\n",
       "  <thead>\n",
       "    <tr style=\"text-align: right;\">\n",
       "      <th></th>\n",
       "      <th>genres</th>\n",
       "      <th>tmdbId</th>\n",
       "      <th>keywords</th>\n",
       "      <th>title</th>\n",
       "      <th>overview</th>\n",
       "      <th>popularity</th>\n",
       "      <th>vote_average</th>\n",
       "      <th>vote_count</th>\n",
       "      <th>cast</th>\n",
       "      <th>crew</th>\n",
       "    </tr>\n",
       "  </thead>\n",
       "  <tbody>\n",
       "    <tr>\n",
       "      <th>0</th>\n",
       "      <td>[{\"id\": 28, \"name\": \"Action\"}, {\"id\": 12, \"nam...</td>\n",
       "      <td>19995</td>\n",
       "      <td>[{\"id\": 1463, \"name\": \"culture clash\"}, {\"id\":...</td>\n",
       "      <td>Avatar</td>\n",
       "      <td>In the 22nd century, a paraplegic Marine is di...</td>\n",
       "      <td>150.437577</td>\n",
       "      <td>7.2</td>\n",
       "      <td>11800</td>\n",
       "      <td>[{\"cast_id\": 242, \"character\": \"Jake Sully\", \"...</td>\n",
       "      <td>[{\"credit_id\": \"52fe48009251416c750aca23\", \"de...</td>\n",
       "    </tr>\n",
       "    <tr>\n",
       "      <th>1</th>\n",
       "      <td>[{\"id\": 12, \"name\": \"Adventure\"}, {\"id\": 14, \"...</td>\n",
       "      <td>285</td>\n",
       "      <td>[{\"id\": 270, \"name\": \"ocean\"}, {\"id\": 726, \"na...</td>\n",
       "      <td>Pirates of the Caribbean: At World's End</td>\n",
       "      <td>Captain Barbossa, long believed to be dead, ha...</td>\n",
       "      <td>139.082615</td>\n",
       "      <td>6.9</td>\n",
       "      <td>4500</td>\n",
       "      <td>[{\"cast_id\": 4, \"character\": \"Captain Jack Spa...</td>\n",
       "      <td>[{\"credit_id\": \"52fe4232c3a36847f800b579\", \"de...</td>\n",
       "    </tr>\n",
       "  </tbody>\n",
       "</table>\n",
       "</div>"
      ],
      "text/plain": [
       "                                              genres  tmdbId  \\\n",
       "0  [{\"id\": 28, \"name\": \"Action\"}, {\"id\": 12, \"nam...   19995   \n",
       "1  [{\"id\": 12, \"name\": \"Adventure\"}, {\"id\": 14, \"...     285   \n",
       "\n",
       "                                            keywords  \\\n",
       "0  [{\"id\": 1463, \"name\": \"culture clash\"}, {\"id\":...   \n",
       "1  [{\"id\": 270, \"name\": \"ocean\"}, {\"id\": 726, \"na...   \n",
       "\n",
       "                                      title  \\\n",
       "0                                    Avatar   \n",
       "1  Pirates of the Caribbean: At World's End   \n",
       "\n",
       "                                            overview  popularity  \\\n",
       "0  In the 22nd century, a paraplegic Marine is di...  150.437577   \n",
       "1  Captain Barbossa, long believed to be dead, ha...  139.082615   \n",
       "\n",
       "   vote_average  vote_count  \\\n",
       "0           7.2       11800   \n",
       "1           6.9        4500   \n",
       "\n",
       "                                                cast  \\\n",
       "0  [{\"cast_id\": 242, \"character\": \"Jake Sully\", \"...   \n",
       "1  [{\"cast_id\": 4, \"character\": \"Captain Jack Spa...   \n",
       "\n",
       "                                                crew  \n",
       "0  [{\"credit_id\": \"52fe48009251416c750aca23\", \"de...  \n",
       "1  [{\"credit_id\": \"52fe4232c3a36847f800b579\", \"de...  "
      ]
     },
     "execution_count": 23,
     "metadata": {},
     "output_type": "execute_result"
    }
   ],
   "source": [
    "\n",
    "print(\"Duplicate movie id's conunt in movies df: \",movies.tmdbId.duplicated().sum())\n",
    "print(\"Duplicate movie id's conunt in credits df: \",credits.tmdbId.duplicated().sum())\n",
    "movies = movies.merge(credits,on=\"tmdbId\")\n",
    "movies.head(2)"
   ]
  },
  {
   "cell_type": "markdown",
   "id": "1250b5e7",
   "metadata": {},
   "source": [
    "##### Check if null values exist"
   ]
  },
  {
   "cell_type": "code",
   "execution_count": 24,
   "id": "a9878e17",
   "metadata": {
    "scrolled": true
   },
   "outputs": [
    {
     "data": {
      "text/plain": [
       "genres          0\n",
       "tmdbId          0\n",
       "keywords        0\n",
       "title           0\n",
       "overview        3\n",
       "popularity      0\n",
       "vote_average    0\n",
       "vote_count      0\n",
       "cast            0\n",
       "crew            0\n",
       "dtype: int64"
      ]
     },
     "execution_count": 24,
     "metadata": {},
     "output_type": "execute_result"
    }
   ],
   "source": [
    "movies.isnull().sum()"
   ]
  },
  {
   "cell_type": "markdown",
   "id": "a4cfbc05",
   "metadata": {},
   "source": [
    "##### Fill all null values with empty character"
   ]
  },
  {
   "cell_type": "code",
   "execution_count": 25,
   "id": "fe048ba8",
   "metadata": {},
   "outputs": [
    {
     "data": {
      "text/plain": [
       "genres          0\n",
       "tmdbId          0\n",
       "keywords        0\n",
       "title           0\n",
       "overview        0\n",
       "popularity      0\n",
       "vote_average    0\n",
       "vote_count      0\n",
       "cast            0\n",
       "crew            0\n",
       "dtype: int64"
      ]
     },
     "execution_count": 25,
     "metadata": {},
     "output_type": "execute_result"
    }
   ],
   "source": [
    "movies = movies.fillna(\"\")\n",
    "movies.isnull().sum()"
   ]
  },
  {
   "cell_type": "markdown",
   "id": "8e05a316",
   "metadata": {},
   "source": [
    "##### check for duplicate records"
   ]
  },
  {
   "cell_type": "code",
   "execution_count": 26,
   "id": "dd4a5ba8",
   "metadata": {},
   "outputs": [
    {
     "name": "stdout",
     "output_type": "stream",
     "text": [
      "duplicated records 0\n"
     ]
    }
   ],
   "source": [
    "print(\"duplicated records\", movies.duplicated().sum())"
   ]
  },
  {
   "cell_type": "markdown",
   "id": "30c9949a",
   "metadata": {},
   "source": [
    "##### Genres data is represented in JSON format. Re-format the column values to list"
   ]
  },
  {
   "cell_type": "code",
   "execution_count": 27,
   "id": "b18d483a",
   "metadata": {},
   "outputs": [
    {
     "data": {
      "text/plain": [
       "0    [Action, Adventure, Fantasy, Science Fiction]\n",
       "1                     [Adventure, Fantasy, Action]\n",
       "Name: genres, dtype: object"
      ]
     },
     "execution_count": 27,
     "metadata": {},
     "output_type": "execute_result"
    }
   ],
   "source": [
    "if(isinstance(movies.genres[0], str)):\n",
    "    genreList = []\n",
    "    for i in movies.genres:\n",
    "        JSON = json.loads(i)\n",
    "        movieGenres = []\n",
    "        for j in JSON:\n",
    "            movieGenres.append(j['name'])\n",
    "        genreList.append(movieGenres[:5])\n",
    "    movies = movies.drop(columns = ['genres'])\n",
    "    movies['genres'] = pd.Series(genreList)\n",
    "movies.genres.head(2)"
   ]
  },
  {
   "cell_type": "markdown",
   "id": "7f63060b",
   "metadata": {},
   "source": [
    "##### Cast data is represented in JSON format. Re-format the column values to list"
   ]
  },
  {
   "cell_type": "code",
   "execution_count": 28,
   "id": "d32ef8ce",
   "metadata": {},
   "outputs": [
    {
     "data": {
      "text/plain": [
       "0    [Sam Worthington, Zoe Saldana, Sigourney Weave...\n",
       "1    [Johnny Depp, Orlando Bloom, Keira Knightley, ...\n",
       "Name: cast, dtype: object"
      ]
     },
     "execution_count": 28,
     "metadata": {},
     "output_type": "execute_result"
    }
   ],
   "source": [
    "if(isinstance(movies.cast[0], str)):\n",
    "    castList = []\n",
    "    for i in movies.cast:\n",
    "        JSON = json.loads(i)\n",
    "        movieCast = []\n",
    "        for j in JSON:\n",
    "            movieCast.append(j['name'])\n",
    "        castList.append(movieCast[:5])\n",
    "    movies = movies.drop(columns = ['cast'])\n",
    "    movies['cast'] = pd.Series(castList)\n",
    "movies.cast.head(2)"
   ]
  },
  {
   "cell_type": "markdown",
   "id": "7f65f6ca",
   "metadata": {},
   "source": [
    "##### Sample List of crew members  job role in a movie"
   ]
  },
  {
   "cell_type": "code",
   "execution_count": 29,
   "id": "08f1f755",
   "metadata": {},
   "outputs": [
    {
     "name": "stdout",
     "output_type": "stream",
     "text": [
      "{'Conceptual Design', 'Best Boy Electric', 'Lighting Artist', 'Sound Designer', 'Art Direction', 'Writer', 'Sound Effects Editor', 'Makeup Artist', 'Visual Effects Art Director', 'Lighting Technician', 'Digital Intermediate', 'Costume Design', 'Music Editor', 'Dialogue Editor', 'Post Production Supervisor', 'Casting', 'Special Effects Coordinator', 'Publicist', 'Dialect Coach', 'Visual Effects Editor', 'Producer', 'Set Decoration', 'Motion Capture Artist', 'Supervising Art Director', 'Stunts', 'Art Department Manager', 'Sound Re-Recording Mixer', 'Set Costumer', 'Art Department Coordinator', 'Still Photographer', 'Executive Producer', 'Foley', 'Director of Photography', 'Construction Coordinator', 'Visual Effects Producer', 'Original Music Composer', 'Choreographer', 'CG Supervisor', 'Hairstylist', 'Set Designer', 'Modeling', 'Director', 'Transportation Coordinator', 'Animation Director', 'Steadicam Operator', 'Costume Supervisor', 'Camera Operator', 'Production Manager', 'Screenplay', 'Supervising Sound Editor', 'Stunt Coordinator', 'Production Supervisor', 'Editor', 'Assistant Art Director', 'Makeup Department Head', 'Production Design', 'Visual Effects Supervisor'}\n"
     ]
    }
   ],
   "source": [
    "JSON = json.loads(credits_unchanged.crew[0])\n",
    "jobs = []\n",
    "for j in JSON:\n",
    "    jobs.append(j['job'])\n",
    "print(set(jobs))"
   ]
  },
  {
   "cell_type": "markdown",
   "id": "9608ff8f",
   "metadata": {},
   "source": [
    "##### Crew data is represented in JSON format & there are several crew job positions available. Select Director role which we use for prediction"
   ]
  },
  {
   "cell_type": "code",
   "execution_count": 30,
   "id": "3f69a8e6",
   "metadata": {},
   "outputs": [
    {
     "data": {
      "text/plain": [
       "0                                [James Cameron]\n",
       "1                               [Gore Verbinski]\n",
       "2                                   [Sam Mendes]\n",
       "3                            [Christopher Nolan]\n",
       "4                               [Andrew Stanton]\n",
       "                          ...                   \n",
       "4798                          [Robert Rodriguez]\n",
       "4799                              [Edward Burns]\n",
       "4800                               [Scott Smith]\n",
       "4801                               [Daniel Hsia]\n",
       "4802    [Brian Herzlinger, Jon Gunn, Brett Winn]\n",
       "Name: directors, Length: 4803, dtype: object"
      ]
     },
     "execution_count": 30,
     "metadata": {},
     "output_type": "execute_result"
    }
   ],
   "source": [
    "if(('crew' in movies) and (isinstance(movies.crew[0], str))):\n",
    "    directorList = []\n",
    "    for i in movies.crew:\n",
    "        JSON = json.loads(i)\n",
    "        movieDirectors = []\n",
    "        for j in JSON:\n",
    "            if(j['job'] == 'Director'):\n",
    "                movieDirectors.append(j['name'])\n",
    "        directorList.append(movieDirectors[:5])\n",
    "    movies = movies.drop(columns = ['crew'])\n",
    "    movies['directors'] = pd.Series(directorList)\n",
    "movies['directors']"
   ]
  },
  {
   "cell_type": "markdown",
   "id": "34b26714",
   "metadata": {},
   "source": [
    "##### Similarly clean keywords column data"
   ]
  },
  {
   "cell_type": "code",
   "execution_count": 31,
   "id": "891325fd",
   "metadata": {},
   "outputs": [
    {
     "data": {
      "text/plain": [
       "0    [culture clash, future, space war, space colon...\n",
       "1    [ocean, drug abuse, exotic island, east india ...\n",
       "Name: keywords, dtype: object"
      ]
     },
     "execution_count": 31,
     "metadata": {},
     "output_type": "execute_result"
    }
   ],
   "source": [
    "if(isinstance(movies.keywords[0], str)):\n",
    "    keywordsList = []\n",
    "    for i in movies.keywords:\n",
    "        JSON = json.loads(i)\n",
    "        movieKeywords = []\n",
    "        for j in JSON:\n",
    "            movieKeywords.append(j['name'])\n",
    "        keywordsList.append(movieKeywords[:5])\n",
    "    movies = movies.drop(columns = ['keywords'])\n",
    "    movies['keywords'] = pd.Series(keywordsList)\n",
    "movies.keywords.head(2)"
   ]
  },
  {
   "cell_type": "markdown",
   "id": "f2d043bb",
   "metadata": {},
   "source": [
    "##### Function to merge multiple words in name field to avoid partial names as common features "
   ]
  },
  {
   "cell_type": "code",
   "execution_count": 32,
   "id": "3720a135",
   "metadata": {},
   "outputs": [],
   "source": [
    "def formatData(column):\n",
    "    movies[column] = [[str.lower(j.replace(\" \", \"_\")) for j in i ] for i in movies[column]]"
   ]
  },
  {
   "cell_type": "code",
   "execution_count": 33,
   "id": "27bf345a",
   "metadata": {},
   "outputs": [
    {
     "data": {
      "text/html": [
       "<div>\n",
       "<style scoped>\n",
       "    .dataframe tbody tr th:only-of-type {\n",
       "        vertical-align: middle;\n",
       "    }\n",
       "\n",
       "    .dataframe tbody tr th {\n",
       "        vertical-align: top;\n",
       "    }\n",
       "\n",
       "    .dataframe thead th {\n",
       "        text-align: right;\n",
       "    }\n",
       "</style>\n",
       "<table border=\"1\" class=\"dataframe\">\n",
       "  <thead>\n",
       "    <tr style=\"text-align: right;\">\n",
       "      <th></th>\n",
       "      <th>tmdbId</th>\n",
       "      <th>title</th>\n",
       "      <th>overview</th>\n",
       "      <th>popularity</th>\n",
       "      <th>vote_average</th>\n",
       "      <th>vote_count</th>\n",
       "      <th>genres</th>\n",
       "      <th>cast</th>\n",
       "      <th>directors</th>\n",
       "      <th>keywords</th>\n",
       "    </tr>\n",
       "  </thead>\n",
       "  <tbody>\n",
       "    <tr>\n",
       "      <th>0</th>\n",
       "      <td>19995</td>\n",
       "      <td>Avatar</td>\n",
       "      <td>In the 22nd century, a paraplegic Marine is di...</td>\n",
       "      <td>150.437577</td>\n",
       "      <td>7.2</td>\n",
       "      <td>11800</td>\n",
       "      <td>[action, adventure, fantasy, science_fiction]</td>\n",
       "      <td>[sam_worthington, zoe_saldana, sigourney_weave...</td>\n",
       "      <td>[james_cameron]</td>\n",
       "      <td>[culture_clash, future, space_war, space_colon...</td>\n",
       "    </tr>\n",
       "    <tr>\n",
       "      <th>1</th>\n",
       "      <td>285</td>\n",
       "      <td>Pirates of the Caribbean: At World's End</td>\n",
       "      <td>Captain Barbossa, long believed to be dead, ha...</td>\n",
       "      <td>139.082615</td>\n",
       "      <td>6.9</td>\n",
       "      <td>4500</td>\n",
       "      <td>[adventure, fantasy, action]</td>\n",
       "      <td>[johnny_depp, orlando_bloom, keira_knightley, ...</td>\n",
       "      <td>[gore_verbinski]</td>\n",
       "      <td>[ocean, drug_abuse, exotic_island, east_india_...</td>\n",
       "    </tr>\n",
       "  </tbody>\n",
       "</table>\n",
       "</div>"
      ],
      "text/plain": [
       "   tmdbId                                     title  \\\n",
       "0   19995                                    Avatar   \n",
       "1     285  Pirates of the Caribbean: At World's End   \n",
       "\n",
       "                                            overview  popularity  \\\n",
       "0  In the 22nd century, a paraplegic Marine is di...  150.437577   \n",
       "1  Captain Barbossa, long believed to be dead, ha...  139.082615   \n",
       "\n",
       "   vote_average  vote_count                                         genres  \\\n",
       "0           7.2       11800  [action, adventure, fantasy, science_fiction]   \n",
       "1           6.9        4500                   [adventure, fantasy, action]   \n",
       "\n",
       "                                                cast         directors  \\\n",
       "0  [sam_worthington, zoe_saldana, sigourney_weave...   [james_cameron]   \n",
       "1  [johnny_depp, orlando_bloom, keira_knightley, ...  [gore_verbinski]   \n",
       "\n",
       "                                            keywords  \n",
       "0  [culture_clash, future, space_war, space_colon...  \n",
       "1  [ocean, drug_abuse, exotic_island, east_india_...  "
      ]
     },
     "execution_count": 33,
     "metadata": {},
     "output_type": "execute_result"
    }
   ],
   "source": [
    "formatData('keywords')\n",
    "formatData('cast')\n",
    "formatData('directors')\n",
    "formatData('genres')\n",
    "movies.head(2)"
   ]
  },
  {
   "cell_type": "markdown",
   "id": "0063206b",
   "metadata": {},
   "source": [
    "#### Combine all the extracted features to a single column which we use it for prediction. "
   ]
  },
  {
   "cell_type": "code",
   "execution_count": 34,
   "id": "6afaab3d",
   "metadata": {},
   "outputs": [
    {
     "data": {
      "text/plain": [
       "'culture_clash future space_war space_colony society sam_worthington zoe_saldana sigourney_weaver stephen_lang michelle_rodriguez james_cameron action adventure fantasy science_fiction'"
      ]
     },
     "execution_count": 34,
     "metadata": {},
     "output_type": "execute_result"
    }
   ],
   "source": [
    "movies['content'] = (movies['keywords'] + movies['cast'] + movies['directors'] + movies['genres'])\n",
    "movies['content'] = movies['content'].apply(lambda x: ' '.join(x))\n",
    "movies['content'][0]"
   ]
  }
 ],
 "metadata": {
  "kernelspec": {
   "display_name": "Python 3 (ipykernel)",
   "language": "python",
   "name": "python3"
  },
  "language_info": {
   "codemirror_mode": {
    "name": "ipython",
    "version": 3
   },
   "file_extension": ".py",
   "mimetype": "text/x-python",
   "name": "python",
   "nbconvert_exporter": "python",
   "pygments_lexer": "ipython3",
   "version": "3.8.10"
  }
 },
 "nbformat": 4,
 "nbformat_minor": 5
}
