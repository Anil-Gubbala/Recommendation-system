{
 "cells": [
  {
   "cell_type": "code",
   "execution_count": 184,
   "id": "f543339b",
   "metadata": {},
   "outputs": [],
   "source": [
    "%%capture capt\n",
    "%run 7_SVD.ipynb"
   ]
  },
  {
   "cell_type": "code",
   "execution_count": 185,
   "id": "730ed7ce",
   "metadata": {},
   "outputs": [],
   "source": [
    "def getHybrdRecommendations(userId):\n",
    "    contentRecommended = getContentRecomMovies(userId, contentSimilarity)\n",
    "    #sns.histplot(contentRecommended['score'])\n",
    "    svdRatings = []\n",
    "    indexMap = pd.Series(contentRecommended.index, index=contentRecommended['movieId'])\n",
    "    for movie in contentRecommended['movieId']:\n",
    "        prediction = svd.predict(randomUser, movie)\n",
    "        svdRatings.append((prediction.est + contentRecommended.iloc[indexMap[movie]].score)*(5/6))\n",
    "    hybridRecommended = contentRecommended\n",
    "    hybridRecommended['score'] = svdRatings\n",
    "    sns.histplot(hybridRecommended['score'])\n",
    "    hybridRecommended = hybridRecommended.sort_values(['score'],ascending=False)\n",
    "    return hybridRecommended[:11]"
   ]
  },
  {
   "cell_type": "code",
   "execution_count": 177,
   "id": "d6e7930c",
   "metadata": {},
   "outputs": [
    {
     "name": "stdout",
     "output_type": "stream",
     "text": [
      "userId :  23\n",
      "Total movies rated :  437\n",
      "Avg ratings : 3.5926773455377576\n",
      "Top rated movies: \n"
     ]
    },
    {
     "data": {
      "text/plain": [
       "38015                       The Hours\n",
       "28197                          Amélie\n",
       "64895                      Casablanca\n",
       "52648      E.T. the Extra-Terrestrial\n",
       "20395               Kill Bill: Vol. 1\n",
       "31469                  Apocalypse Now\n",
       "40119                          Gandhi\n",
       "64145    Mr. Smith Goes to Washington\n",
       "59119               Y Tu Mamá También\n",
       "47413              Lawrence of Arabia\n",
       "63977                    Run Lola Run\n",
       "38129        The Shawshank Redemption\n",
       "47475              The Princess Bride\n",
       "59891             Requiem for a Dream\n",
       "37741                      GoodFellas\n",
       "60056                       Character\n",
       "10609                  Ocean's Eleven\n",
       "36056                       Dark City\n",
       "61394                     City of God\n",
       "65095                     Taxi Driver\n",
       "Name: title, dtype: object"
      ]
     },
     "execution_count": 177,
     "metadata": {},
     "output_type": "execute_result"
    }
   ],
   "source": [
    "randomUser = random.choice(movieRatings['userId'])\n",
    "ratedMovies = movieRatings[movieRatings['userId']==randomUser]\n",
    "avgRating = np.mean(ratedMovies['rating'])\n",
    "topRatedMovies = ratedMovies\n",
    "topRatedMovies = topRatedMovies.sort_values(['rating'],ascending=False)\n",
    "print(\"userId : \", randomUser)\n",
    "print(\"Total movies rated : \",len(ratedMovies))\n",
    "print(\"Avg ratings :\" , avgRating)\n",
    "print(\"Top rated movies: \")\n",
    "topRatedMovies['title'][:20]"
   ]
  },
  {
   "cell_type": "code",
   "execution_count": 190,
   "id": "9bc48a7a",
   "metadata": {},
   "outputs": [
    {
     "data": {
      "text/html": [
       "<div>\n",
       "<style scoped>\n",
       "    .dataframe tbody tr th:only-of-type {\n",
       "        vertical-align: middle;\n",
       "    }\n",
       "\n",
       "    .dataframe tbody tr th {\n",
       "        vertical-align: top;\n",
       "    }\n",
       "\n",
       "    .dataframe thead th {\n",
       "        text-align: right;\n",
       "    }\n",
       "</style>\n",
       "<table border=\"1\" class=\"dataframe\">\n",
       "  <thead>\n",
       "    <tr style=\"text-align: right;\">\n",
       "      <th></th>\n",
       "      <th>movieId</th>\n",
       "      <th>score</th>\n",
       "      <th>titles</th>\n",
       "    </tr>\n",
       "  </thead>\n",
       "  <tbody>\n",
       "    <tr>\n",
       "      <th>3</th>\n",
       "      <td>58559</td>\n",
       "      <td>4.520904</td>\n",
       "      <td>Hellboy II: The Golden Army</td>\n",
       "    </tr>\n",
       "    <tr>\n",
       "      <th>198</th>\n",
       "      <td>296</td>\n",
       "      <td>4.370708</td>\n",
       "      <td>DodgeBall: A True Underdog Story</td>\n",
       "    </tr>\n",
       "    <tr>\n",
       "      <th>65</th>\n",
       "      <td>2571</td>\n",
       "      <td>4.214949</td>\n",
       "      <td>Man of Steel</td>\n",
       "    </tr>\n",
       "    <tr>\n",
       "      <th>0</th>\n",
       "      <td>1200</td>\n",
       "      <td>4.137255</td>\n",
       "      <td>Alien: Resurrection</td>\n",
       "    </tr>\n",
       "    <tr>\n",
       "      <th>54</th>\n",
       "      <td>47</td>\n",
       "      <td>4.134084</td>\n",
       "      <td>I Heart Huckabees</td>\n",
       "    </tr>\n",
       "    <tr>\n",
       "      <th>27</th>\n",
       "      <td>3114</td>\n",
       "      <td>4.019662</td>\n",
       "      <td>Spider-Man 2</td>\n",
       "    </tr>\n",
       "    <tr>\n",
       "      <th>24</th>\n",
       "      <td>106920</td>\n",
       "      <td>4.010891</td>\n",
       "      <td>Collateral</td>\n",
       "    </tr>\n",
       "    <tr>\n",
       "      <th>2</th>\n",
       "      <td>33794</td>\n",
       "      <td>3.996644</td>\n",
       "      <td>Iron Man 2</td>\n",
       "    </tr>\n",
       "    <tr>\n",
       "      <th>29</th>\n",
       "      <td>1240</td>\n",
       "      <td>3.951166</td>\n",
       "      <td>Definitely, Maybe</td>\n",
       "    </tr>\n",
       "    <tr>\n",
       "      <th>138</th>\n",
       "      <td>4993</td>\n",
       "      <td>3.946213</td>\n",
       "      <td>Alvin and the Chipmunks: The Squeakquel</td>\n",
       "    </tr>\n",
       "    <tr>\n",
       "      <th>120</th>\n",
       "      <td>7153</td>\n",
       "      <td>3.908299</td>\n",
       "      <td>Batman Begins</td>\n",
       "    </tr>\n",
       "  </tbody>\n",
       "</table>\n",
       "</div>"
      ],
      "text/plain": [
       "     movieId     score                                   titles\n",
       "3      58559  4.520904              Hellboy II: The Golden Army\n",
       "198      296  4.370708         DodgeBall: A True Underdog Story\n",
       "65      2571  4.214949                             Man of Steel\n",
       "0       1200  4.137255                      Alien: Resurrection\n",
       "54        47  4.134084                        I Heart Huckabees\n",
       "27      3114  4.019662                             Spider-Man 2\n",
       "24    106920  4.010891                               Collateral\n",
       "2      33794  3.996644                               Iron Man 2\n",
       "29      1240  3.951166                        Definitely, Maybe\n",
       "138     4993  3.946213  Alvin and the Chipmunks: The Squeakquel\n",
       "120     7153  3.908299                            Batman Begins"
      ]
     },
     "execution_count": 190,
     "metadata": {},
     "output_type": "execute_result"
    },
    {
     "data": {
      "image/png": "[encoded data removed]",
      "text/plain": [
       "<Figure size 432x288 with 1 Axes>"
      ]
     },
     "metadata": {
      "needs_background": "light"
     },
     "output_type": "display_data"
    }
   ],
   "source": [
    "getHybrdRecommendations(randomUser)"
   ]
  },
  {
   "cell_type": "code",
   "execution_count": 191,
   "id": "b135318d",
   "metadata": {},
   "outputs": [
    {
     "data": {
      "text/html": [
       "<div>\n",
       "<style scoped>\n",
       "    .dataframe tbody tr th:only-of-type {\n",
       "        vertical-align: middle;\n",
       "    }\n",
       "\n",
       "    .dataframe tbody tr th {\n",
       "        vertical-align: top;\n",
       "    }\n",
       "\n",
       "    .dataframe thead th {\n",
       "        text-align: right;\n",
       "    }\n",
       "</style>\n",
       "<table border=\"1\" class=\"dataframe\">\n",
       "  <thead>\n",
       "    <tr style=\"text-align: right;\">\n",
       "      <th></th>\n",
       "      <th>movieId</th>\n",
       "      <th>score</th>\n",
       "      <th>titles</th>\n",
       "    </tr>\n",
       "  </thead>\n",
       "  <tbody>\n",
       "    <tr>\n",
       "      <th>23</th>\n",
       "      <td>3793</td>\n",
       "      <td>0.994320</td>\n",
       "      <td>Aliens</td>\n",
       "    </tr>\n",
       "    <tr>\n",
       "      <th>22</th>\n",
       "      <td>6333</td>\n",
       "      <td>0.994320</td>\n",
       "      <td>Shadow Conspiracy</td>\n",
       "    </tr>\n",
       "    <tr>\n",
       "      <th>120</th>\n",
       "      <td>7153</td>\n",
       "      <td>0.912415</td>\n",
       "      <td>Batman Begins</td>\n",
       "    </tr>\n",
       "    <tr>\n",
       "      <th>119</th>\n",
       "      <td>5952</td>\n",
       "      <td>0.912415</td>\n",
       "      <td>The Dark Knight</td>\n",
       "    </tr>\n",
       "    <tr>\n",
       "      <th>11</th>\n",
       "      <td>122892</td>\n",
       "      <td>0.818789</td>\n",
       "      <td>Cinderella</td>\n",
       "    </tr>\n",
       "    <tr>\n",
       "      <th>...</th>\n",
       "      <td>...</td>\n",
       "      <td>...</td>\n",
       "      <td>...</td>\n",
       "    </tr>\n",
       "    <tr>\n",
       "      <th>680</th>\n",
       "      <td>2460</td>\n",
       "      <td>0.100035</td>\n",
       "      <td>Dead Poets Society</td>\n",
       "    </tr>\n",
       "    <tr>\n",
       "      <th>698</th>\n",
       "      <td>6888</td>\n",
       "      <td>0.099357</td>\n",
       "      <td>I Origins</td>\n",
       "    </tr>\n",
       "    <tr>\n",
       "      <th>409</th>\n",
       "      <td>83134</td>\n",
       "      <td>0.099024</td>\n",
       "      <td>Another Earth</td>\n",
       "    </tr>\n",
       "    <tr>\n",
       "      <th>712</th>\n",
       "      <td>4014</td>\n",
       "      <td>0.092729</td>\n",
       "      <td>Freakonomics</td>\n",
       "    </tr>\n",
       "    <tr>\n",
       "      <th>699</th>\n",
       "      <td>50802</td>\n",
       "      <td>0.089655</td>\n",
       "      <td>Food, Inc.</td>\n",
       "    </tr>\n",
       "  </tbody>\n",
       "</table>\n",
       "<p>741 rows × 3 columns</p>\n",
       "</div>"
      ],
      "text/plain": [
       "     movieId     score              titles\n",
       "23      3793  0.994320              Aliens\n",
       "22      6333  0.994320   Shadow Conspiracy\n",
       "120     7153  0.912415       Batman Begins\n",
       "119     5952  0.912415     The Dark Knight\n",
       "11    122892  0.818789          Cinderella\n",
       "..       ...       ...                 ...\n",
       "680     2460  0.100035  Dead Poets Society\n",
       "698     6888  0.099357           I Origins\n",
       "409    83134  0.099024       Another Earth\n",
       "712     4014  0.092729        Freakonomics\n",
       "699    50802  0.089655          Food, Inc.\n",
       "\n",
       "[741 rows x 3 columns]"
      ]
     },
     "execution_count": 191,
     "metadata": {},
     "output_type": "execute_result"
    },
    {
     "data": {
      "image/png": "[encoded data removed]",
      "text/plain": [
       "<Figure size 432x288 with 1 Axes>"
      ]
     },
     "metadata": {
      "needs_background": "light"
     },
     "output_type": "display_data"
    }
   ],
   "source": [
    "a = getContentRecomMovies(randomUser,contentSimilarity)\n",
    "sns.histplot(a['score'])\n",
    "a"
   ]
  },
  {
   "cell_type": "code",
   "execution_count": null,
   "id": "980cb0a9",
   "metadata": {},
   "outputs": [],
   "source": []
  }
 ],
 "metadata": {
  "kernelspec": {
   "display_name": "Python 3 (ipykernel)",
   "language": "python",
   "name": "python3"
  },
  "language_info": {
   "codemirror_mode": {
    "name": "ipython",
    "version": 3
   },
   "file_extension": ".py",
   "mimetype": "text/x-python",
   "name": "python",
   "nbconvert_exporter": "python",
   "pygments_lexer": "ipython3",
   "version": "3.8.10"
  }
 },
 "nbformat": 4,
 "nbformat_minor": 5
}
