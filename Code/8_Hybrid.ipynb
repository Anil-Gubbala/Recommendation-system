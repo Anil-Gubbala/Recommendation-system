{
 "cells": [
  {
   "cell_type": "code",
   "execution_count": 30,
   "id": "f543339b",
   "metadata": {},
   "outputs": [],
   "source": [
    "%%capture capt\n",
    "%run 7_SVD.ipynb"
   ]
  },
  {
   "cell_type": "code",
   "execution_count": 56,
   "id": "730ed7ce",
   "metadata": {},
   "outputs": [],
   "source": [
    "def getHybrdRecommendations(userId):\n",
    "    if(len(ratedMovies) == 0):\n",
    "            return getPopularMovies()\n",
    "    contentRecommended = getContentRecomMovies(userId, contentSimilarity)\n",
    "    #sns.histplot(contentRecommended['score'])\n",
    "    svdRatings = []\n",
    "    indexMap = pd.Series(contentRecommended.index, index=contentRecommended['movieId'])\n",
    "    for movie in contentRecommended['movieId']:\n",
    "        prediction = svd.predict(randomUser, movie)\n",
    "        svdRatings.append((prediction.est + contentRecommended.iloc[indexMap[movie]].score)*(5/6))\n",
    "    hybridRecommended = contentRecommended\n",
    "    hybridRecommended['score'] = svdRatings\n",
    "    sns.histplot(hybridRecommended['score'])\n",
    "    hybridRecommended = hybridRecommended.sort_values(['score'],ascending=False)\n",
    "    return hybridRecommended[:11]"
   ]
  },
  {
   "cell_type": "code",
   "execution_count": 50,
   "id": "d6e7930c",
   "metadata": {},
   "outputs": [
    {
     "name": "stdout",
     "output_type": "stream",
     "text": [
      "userId :  496\n",
      "Total movies rated :  81\n",
      "Avg ratings : 3.9382716049382718\n",
      "Top rated movies: \n"
     ]
    },
    {
     "data": {
      "text/plain": [
       "20767               Executive Decision\n",
       "31638               Mr. Holland's Opus\n",
       "39823                            Ghost\n",
       "22618                         Outbreak\n",
       "7010        Terminator 2: Judgment Day\n",
       "25651                     The Fugitive\n",
       "42891               Dances with Wolves\n",
       "28739           Star Trek: Generations\n",
       "41834                          Copycat\n",
       "41236         The Silence of the Lambs\n",
       "17282                    Jurassic Park\n",
       "40235                          The Net\n",
       "40092    The Bridges of Madison County\n",
       "33389              Legends of the Fall\n",
       "34251                       Virtuosity\n",
       "35029                         Die Hard\n",
       "35609                          Rob Roy\n",
       "37594                        Tombstone\n",
       "19669                     Forrest Gump\n",
       "38343         The Shawshank Redemption\n",
       "Name: title, dtype: object"
      ]
     },
     "execution_count": 50,
     "metadata": {},
     "output_type": "execute_result"
    }
   ],
   "source": [
    "randomUser = random.choice(movieRatings['userId'])\n",
    "ratedMovies = movieRatings[movieRatings['userId']==randomUser]\n",
    "avgRating = np.mean(ratedMovies['rating'])\n",
    "topRatedMovies = ratedMovies\n",
    "topRatedMovies = topRatedMovies.sort_values(['rating'],ascending=False)\n",
    "print(\"userId : \", randomUser)\n",
    "print(\"Total movies rated : \",len(ratedMovies))\n",
    "print(\"Avg ratings :\" , avgRating)\n",
    "print(\"Top rated movies: \")\n",
    "topRatedMovies['title'][:20]"
   ]
  },
  {
   "cell_type": "code",
   "execution_count": 55,
   "id": "9bc48a7a",
   "metadata": {},
   "outputs": [
    {
     "data": {
      "text/html": [
       "<div>\n",
       "<style scoped>\n",
       "    .dataframe tbody tr th:only-of-type {\n",
       "        vertical-align: middle;\n",
       "    }\n",
       "\n",
       "    .dataframe tbody tr th {\n",
       "        vertical-align: top;\n",
       "    }\n",
       "\n",
       "    .dataframe thead th {\n",
       "        text-align: right;\n",
       "    }\n",
       "</style>\n",
       "<table border=\"1\" class=\"dataframe\">\n",
       "  <thead>\n",
       "    <tr style=\"text-align: right;\">\n",
       "      <th></th>\n",
       "      <th>movieId</th>\n",
       "      <th>score</th>\n",
       "      <th>titles</th>\n",
       "    </tr>\n",
       "  </thead>\n",
       "  <tbody>\n",
       "    <tr>\n",
       "      <th>2</th>\n",
       "      <td>1240</td>\n",
       "      <td>4.229342</td>\n",
       "      <td>Terminator 2: Judgment Day</td>\n",
       "    </tr>\n",
       "    <tr>\n",
       "      <th>5</th>\n",
       "      <td>589</td>\n",
       "      <td>4.189684</td>\n",
       "      <td>Breakdown</td>\n",
       "    </tr>\n",
       "    <tr>\n",
       "      <th>57</th>\n",
       "      <td>905</td>\n",
       "      <td>4.150433</td>\n",
       "      <td>Cliffhanger</td>\n",
       "    </tr>\n",
       "    <tr>\n",
       "      <th>12</th>\n",
       "      <td>1036</td>\n",
       "      <td>4.044057</td>\n",
       "      <td>Vampires</td>\n",
       "    </tr>\n",
       "    <tr>\n",
       "      <th>151</th>\n",
       "      <td>2329</td>\n",
       "      <td>4.041153</td>\n",
       "      <td>Conspiracy Theory</td>\n",
       "    </tr>\n",
       "    <tr>\n",
       "      <th>11</th>\n",
       "      <td>296</td>\n",
       "      <td>4.037149</td>\n",
       "      <td>Confessions of a Dangerous Mind</td>\n",
       "    </tr>\n",
       "    <tr>\n",
       "      <th>87</th>\n",
       "      <td>81229</td>\n",
       "      <td>3.997165</td>\n",
       "      <td>Wicker Park</td>\n",
       "    </tr>\n",
       "    <tr>\n",
       "      <th>64</th>\n",
       "      <td>3147</td>\n",
       "      <td>3.928776</td>\n",
       "      <td>In Cold Blood</td>\n",
       "    </tr>\n",
       "    <tr>\n",
       "      <th>90</th>\n",
       "      <td>16</td>\n",
       "      <td>3.904630</td>\n",
       "      <td>Once Upon a Time in Mexico</td>\n",
       "    </tr>\n",
       "    <tr>\n",
       "      <th>134</th>\n",
       "      <td>1674</td>\n",
       "      <td>3.891268</td>\n",
       "      <td>The Haunting</td>\n",
       "    </tr>\n",
       "    <tr>\n",
       "      <th>3</th>\n",
       "      <td>133782</td>\n",
       "      <td>3.877017</td>\n",
       "      <td>The Taking of Pelham 1 2 3</td>\n",
       "    </tr>\n",
       "  </tbody>\n",
       "</table>\n",
       "</div>"
      ],
      "text/plain": [
       "     movieId     score                           titles\n",
       "2       1240  4.229342       Terminator 2: Judgment Day\n",
       "5        589  4.189684                        Breakdown\n",
       "57       905  4.150433                      Cliffhanger\n",
       "12      1036  4.044057                         Vampires\n",
       "151     2329  4.041153                Conspiracy Theory\n",
       "11       296  4.037149  Confessions of a Dangerous Mind\n",
       "87     81229  3.997165                      Wicker Park\n",
       "64      3147  3.928776                    In Cold Blood\n",
       "90        16  3.904630       Once Upon a Time in Mexico\n",
       "134     1674  3.891268                     The Haunting\n",
       "3     133782  3.877017       The Taking of Pelham 1 2 3"
      ]
     },
     "execution_count": 55,
     "metadata": {},
     "output_type": "execute_result"
    },
    {
     "data": {
      "image/png": "[encoded data removed]",
      "text/plain": [
       "<Figure size 432x288 with 1 Axes>"
      ]
     },
     "metadata": {
      "needs_background": "light"
     },
     "output_type": "display_data"
    }
   ],
   "source": [
    "getHybrdRecommendations(randomUser)"
   ]
  },
  {
   "cell_type": "code",
   "execution_count": 52,
   "id": "b135318d",
   "metadata": {},
   "outputs": [
    {
     "data": {
      "text/html": [
       "<div>\n",
       "<style scoped>\n",
       "    .dataframe tbody tr th:only-of-type {\n",
       "        vertical-align: middle;\n",
       "    }\n",
       "\n",
       "    .dataframe tbody tr th {\n",
       "        vertical-align: top;\n",
       "    }\n",
       "\n",
       "    .dataframe thead th {\n",
       "        text-align: right;\n",
       "    }\n",
       "</style>\n",
       "<table border=\"1\" class=\"dataframe\">\n",
       "  <thead>\n",
       "    <tr style=\"text-align: right;\">\n",
       "      <th></th>\n",
       "      <th>movieId</th>\n",
       "      <th>score</th>\n",
       "      <th>titles</th>\n",
       "    </tr>\n",
       "  </thead>\n",
       "  <tbody>\n",
       "    <tr>\n",
       "      <th>43</th>\n",
       "      <td>1544</td>\n",
       "      <td>0.620584</td>\n",
       "      <td>Robin Hood: Prince of Thieves</td>\n",
       "    </tr>\n",
       "    <tr>\n",
       "      <th>121</th>\n",
       "      <td>1370</td>\n",
       "      <td>0.497975</td>\n",
       "      <td>The SpongeBob SquarePants Movie</td>\n",
       "    </tr>\n",
       "    <tr>\n",
       "      <th>103</th>\n",
       "      <td>2393</td>\n",
       "      <td>0.493171</td>\n",
       "      <td>The Terminator</td>\n",
       "    </tr>\n",
       "    <tr>\n",
       "      <th>104</th>\n",
       "      <td>1356</td>\n",
       "      <td>0.484604</td>\n",
       "      <td>Maggie</td>\n",
       "    </tr>\n",
       "    <tr>\n",
       "      <th>105</th>\n",
       "      <td>5944</td>\n",
       "      <td>0.461339</td>\n",
       "      <td>The Hunger Games: Mockingjay - Part 1</td>\n",
       "    </tr>\n",
       "    <tr>\n",
       "      <th>...</th>\n",
       "      <td>...</td>\n",
       "      <td>...</td>\n",
       "      <td>...</td>\n",
       "    </tr>\n",
       "    <tr>\n",
       "      <th>9</th>\n",
       "      <td>2769</td>\n",
       "      <td>0.119090</td>\n",
       "      <td>The Princess Diaries 2: Royal Engagement</td>\n",
       "    </tr>\n",
       "    <tr>\n",
       "      <th>26</th>\n",
       "      <td>266</td>\n",
       "      <td>0.118681</td>\n",
       "      <td>The Princess Diaries</td>\n",
       "    </tr>\n",
       "    <tr>\n",
       "      <th>60</th>\n",
       "      <td>78041</td>\n",
       "      <td>0.115378</td>\n",
       "      <td>Very Bad Things</td>\n",
       "    </tr>\n",
       "    <tr>\n",
       "      <th>33</th>\n",
       "      <td>6852</td>\n",
       "      <td>0.115182</td>\n",
       "      <td>The Contender</td>\n",
       "    </tr>\n",
       "    <tr>\n",
       "      <th>27</th>\n",
       "      <td>77866</td>\n",
       "      <td>0.111801</td>\n",
       "      <td>Broken Arrow</td>\n",
       "    </tr>\n",
       "  </tbody>\n",
       "</table>\n",
       "<p>159 rows × 3 columns</p>\n",
       "</div>"
      ],
      "text/plain": [
       "     movieId     score                                    titles\n",
       "43      1544  0.620584             Robin Hood: Prince of Thieves\n",
       "121     1370  0.497975           The SpongeBob SquarePants Movie\n",
       "103     2393  0.493171                            The Terminator\n",
       "104     1356  0.484604                                    Maggie\n",
       "105     5944  0.461339     The Hunger Games: Mockingjay - Part 1\n",
       "..       ...       ...                                       ...\n",
       "9       2769  0.119090  The Princess Diaries 2: Royal Engagement\n",
       "26       266  0.118681                      The Princess Diaries\n",
       "60     78041  0.115378                           Very Bad Things\n",
       "33      6852  0.115182                             The Contender\n",
       "27     77866  0.111801                              Broken Arrow\n",
       "\n",
       "[159 rows x 3 columns]"
      ]
     },
     "execution_count": 52,
     "metadata": {},
     "output_type": "execute_result"
    },
    {
     "data": {
      "image/png": "[encoded data removed]",
      "text/plain": [
       "<Figure size 432x288 with 1 Axes>"
      ]
     },
     "metadata": {
      "needs_background": "light"
     },
     "output_type": "display_data"
    }
   ],
   "source": [
    "RecomContent = getContentRecomMovies(randomUser,contentSimilarity)\n",
    "sns.histplot(RecomContent['score'])\n",
    "RecomContent"
   ]
  },
  {
   "cell_type": "code",
   "execution_count": null,
   "id": "980cb0a9",
   "metadata": {},
   "outputs": [],
   "source": []
  }
 ],
 "metadata": {
  "kernelspec": {
   "display_name": "Python 3 (ipykernel)",
   "language": "python",
   "name": "python3"
  },
  "language_info": {
   "codemirror_mode": {
    "name": "ipython",
    "version": 3
   },
   "file_extension": ".py",
   "mimetype": "text/x-python",
   "name": "python",
   "nbconvert_exporter": "python",
   "pygments_lexer": "ipython3",
   "version": "3.8.10"
  }
 },
 "nbformat": 4,
 "nbformat_minor": 5
}
