{
 "cells": [
  {
   "cell_type": "code",
   "execution_count": 30,
   "id": "f543339b",
   "metadata": {},
   "outputs": [],
   "source": [
    "%%capture capt\n",
    "%run 7_SVD.ipynb"
   ]
  },
  {
   "cell_type": "code",
   "execution_count": 56,
   "id": "730ed7ce",
   "metadata": {},
   "outputs": [],
   "source": [
    "def getHybrdRecommendations(userId):\n",
    "    if(len(ratedMovies) == 0):\n",
    "            return getPopularMovies()\n",
    "    contentRecommended = getContentRecomMovies(userId, contentSimilarity)\n",
    "    #sns.histplot(contentRecommended['score'])\n",
    "    svdRatings = []\n",
    "    indexMap = pd.Series(contentRecommended.index, index=contentRecommended['movieId'])\n",
    "    for movie in contentRecommended['movieId']:\n",
    "        prediction = svd.predict(randomUser, movie)\n",
    "        svdRatings.append((prediction.est + contentRecommended.iloc[indexMap[movie]].score)*(5/6))\n",
    "    hybridRecommended = contentRecommended\n",
    "    hybridRecommended['score'] = svdRatings\n",
    "    sns.histplot(hybridRecommended['score'])\n",
    "    hybridRecommended = hybridRecommended.sort_values(['score'],ascending=False)\n",
    "    return hybridRecommended[:11]"
   ]
  },
  {
   "cell_type": "code",
   "execution_count": 58,
   "id": "d6e7930c",
   "metadata": {},
   "outputs": [
    {
     "name": "stdout",
     "output_type": "stream",
     "text": [
      "userId :  654\n",
      "Total movies rated :  479\n",
      "Avg ratings : 4.065762004175365\n",
      "Top rated movies: \n"
     ]
    },
    {
     "data": {
      "text/plain": [
       "8323                                      Finding Nemo\n",
       "52799                       E.T. the Extra-Terrestrial\n",
       "40995               Close Encounters of the Third Kind\n",
       "32326                                        Toy Story\n",
       "41643                              Edward Scissorhands\n",
       "7069                        Terminator 2: Judgment Day\n",
       "51100                                     Time Bandits\n",
       "681                                            Titanic\n",
       "60252                                      Whale Rider\n",
       "60053                                     Donnie Darko\n",
       "39446                          The Empire Strikes Back\n",
       "44989                                           Aliens\n",
       "8495     The Lord of the Rings: The Return of the King\n",
       "8681             The Lord of the Rings: The Two Towers\n",
       "16987                                       Fight Club\n",
       "8917                                   The Incredibles\n",
       "9246                                       Toy Story 2\n",
       "61545                                A Christmas Story\n",
       "58937                                          Memento\n",
       "51923                                        Star Wars\n",
       "Name: title, dtype: object"
      ]
     },
     "execution_count": 58,
     "metadata": {},
     "output_type": "execute_result"
    }
   ],
   "source": [
    "randomUser = random.choice(movieRatings['userId'])\n",
    "ratedMovies = movieRatings[movieRatings['userId']==randomUser]\n",
    "avgRating = np.mean(ratedMovies['rating'])\n",
    "topRatedMovies = ratedMovies\n",
    "topRatedMovies = topRatedMovies.sort_values(['rating'],ascending=False)\n",
    "print(\"userId : \", randomUser)\n",
    "print(\"Total movies rated : \",len(ratedMovies))\n",
    "print(\"Avg ratings :\" , avgRating)\n",
    "print(\"Top rated movies: \")\n",
    "topRatedMovies['title'][:20]"
   ]
  },
  {
   "cell_type": "code",
   "execution_count": 59,
   "id": "9bc48a7a",
   "metadata": {},
   "outputs": [
    {
     "data": {
      "text/html": [
       "<div>\n",
       "<style scoped>\n",
       "    .dataframe tbody tr th:only-of-type {\n",
       "        vertical-align: middle;\n",
       "    }\n",
       "\n",
       "    .dataframe tbody tr th {\n",
       "        vertical-align: top;\n",
       "    }\n",
       "\n",
       "    .dataframe thead th {\n",
       "        text-align: right;\n",
       "    }\n",
       "</style>\n",
       "<table border=\"1\" class=\"dataframe\">\n",
       "  <thead>\n",
       "    <tr style=\"text-align: right;\">\n",
       "      <th></th>\n",
       "      <th>movieId</th>\n",
       "      <th>score</th>\n",
       "      <th>titles</th>\n",
       "    </tr>\n",
       "  </thead>\n",
       "  <tbody>\n",
       "    <tr>\n",
       "      <th>36</th>\n",
       "      <td>5952</td>\n",
       "      <td>4.614183</td>\n",
       "      <td>Revolutionary Road</td>\n",
       "    </tr>\n",
       "    <tr>\n",
       "      <th>37</th>\n",
       "      <td>7153</td>\n",
       "      <td>4.614145</td>\n",
       "      <td>Flushed Away</td>\n",
       "    </tr>\n",
       "    <tr>\n",
       "      <th>26</th>\n",
       "      <td>260</td>\n",
       "      <td>4.544506</td>\n",
       "      <td>Batman</td>\n",
       "    </tr>\n",
       "    <tr>\n",
       "      <th>53</th>\n",
       "      <td>4993</td>\n",
       "      <td>4.530983</td>\n",
       "      <td>Spider-Man 3</td>\n",
       "    </tr>\n",
       "    <tr>\n",
       "      <th>10</th>\n",
       "      <td>58559</td>\n",
       "      <td>4.475506</td>\n",
       "      <td>The Hobbit: An Unexpected Journey</td>\n",
       "    </tr>\n",
       "    <tr>\n",
       "      <th>11</th>\n",
       "      <td>48780</td>\n",
       "      <td>4.444214</td>\n",
       "      <td>Reservoir Dogs</td>\n",
       "    </tr>\n",
       "    <tr>\n",
       "      <th>116</th>\n",
       "      <td>527</td>\n",
       "      <td>4.371284</td>\n",
       "      <td>The Horseman on the Roof</td>\n",
       "    </tr>\n",
       "    <tr>\n",
       "      <th>6</th>\n",
       "      <td>69844</td>\n",
       "      <td>4.368007</td>\n",
       "      <td>John Carter</td>\n",
       "    </tr>\n",
       "    <tr>\n",
       "      <th>12</th>\n",
       "      <td>8636</td>\n",
       "      <td>4.360729</td>\n",
       "      <td>Mission: Impossible - Rogue Nation</td>\n",
       "    </tr>\n",
       "    <tr>\n",
       "      <th>34</th>\n",
       "      <td>48516</td>\n",
       "      <td>4.338365</td>\n",
       "      <td>Little Children</td>\n",
       "    </tr>\n",
       "    <tr>\n",
       "      <th>4</th>\n",
       "      <td>5349</td>\n",
       "      <td>4.328941</td>\n",
       "      <td>Jack Ryan: Shadow Recruit</td>\n",
       "    </tr>\n",
       "  </tbody>\n",
       "</table>\n",
       "</div>"
      ],
      "text/plain": [
       "     movieId     score                              titles\n",
       "36      5952  4.614183                  Revolutionary Road\n",
       "37      7153  4.614145                        Flushed Away\n",
       "26       260  4.544506                              Batman\n",
       "53      4993  4.530983                        Spider-Man 3\n",
       "10     58559  4.475506   The Hobbit: An Unexpected Journey\n",
       "11     48780  4.444214                      Reservoir Dogs\n",
       "116      527  4.371284            The Horseman on the Roof\n",
       "6      69844  4.368007                         John Carter\n",
       "12      8636  4.360729  Mission: Impossible - Rogue Nation\n",
       "34     48516  4.338365                     Little Children\n",
       "4       5349  4.328941           Jack Ryan: Shadow Recruit"
      ]
     },
     "execution_count": 59,
     "metadata": {},
     "output_type": "execute_result"
    },
    {
     "data": {
      "image/png": "[encoded data removed]",
      "text/plain": [
       "<Figure size 432x288 with 1 Axes>"
      ]
     },
     "metadata": {
      "needs_background": "light"
     },
     "output_type": "display_data"
    }
   ],
   "source": [
    "getHybrdRecommendations(randomUser)"
   ]
  },
  {
   "cell_type": "code",
   "execution_count": 60,
   "id": "b135318d",
   "metadata": {},
   "outputs": [
    {
     "data": {
      "text/html": [
       "<div>\n",
       "<style scoped>\n",
       "    .dataframe tbody tr th:only-of-type {\n",
       "        vertical-align: middle;\n",
       "    }\n",
       "\n",
       "    .dataframe tbody tr th {\n",
       "        vertical-align: top;\n",
       "    }\n",
       "\n",
       "    .dataframe thead th {\n",
       "        text-align: right;\n",
       "    }\n",
       "</style>\n",
       "<table border=\"1\" class=\"dataframe\">\n",
       "  <thead>\n",
       "    <tr style=\"text-align: right;\">\n",
       "      <th></th>\n",
       "      <th>movieId</th>\n",
       "      <th>score</th>\n",
       "      <th>titles</th>\n",
       "    </tr>\n",
       "  </thead>\n",
       "  <tbody>\n",
       "    <tr>\n",
       "      <th>18</th>\n",
       "      <td>3793</td>\n",
       "      <td>0.994320</td>\n",
       "      <td>The Day the Earth Stood Still</td>\n",
       "    </tr>\n",
       "    <tr>\n",
       "      <th>36</th>\n",
       "      <td>5952</td>\n",
       "      <td>0.912415</td>\n",
       "      <td>Revolutionary Road</td>\n",
       "    </tr>\n",
       "    <tr>\n",
       "      <th>37</th>\n",
       "      <td>7153</td>\n",
       "      <td>0.912415</td>\n",
       "      <td>Flushed Away</td>\n",
       "    </tr>\n",
       "    <tr>\n",
       "      <th>53</th>\n",
       "      <td>4993</td>\n",
       "      <td>0.813651</td>\n",
       "      <td>Spider-Man 3</td>\n",
       "    </tr>\n",
       "    <tr>\n",
       "      <th>118</th>\n",
       "      <td>6934</td>\n",
       "      <td>0.802803</td>\n",
       "      <td>Spider-Man</td>\n",
       "    </tr>\n",
       "    <tr>\n",
       "      <th>...</th>\n",
       "      <td>...</td>\n",
       "      <td>...</td>\n",
       "      <td>...</td>\n",
       "    </tr>\n",
       "    <tr>\n",
       "      <th>427</th>\n",
       "      <td>39234</td>\n",
       "      <td>0.099503</td>\n",
       "      <td>Time Bandits</td>\n",
       "    </tr>\n",
       "    <tr>\n",
       "      <th>471</th>\n",
       "      <td>6888</td>\n",
       "      <td>0.099357</td>\n",
       "      <td>The Fisher King</td>\n",
       "    </tr>\n",
       "    <tr>\n",
       "      <th>201</th>\n",
       "      <td>47384</td>\n",
       "      <td>0.099085</td>\n",
       "      <td>The Imaginarium of Doctor Parnassus</td>\n",
       "    </tr>\n",
       "    <tr>\n",
       "      <th>472</th>\n",
       "      <td>50802</td>\n",
       "      <td>0.089655</td>\n",
       "      <td>Mr. &amp; Mrs. Smith</td>\n",
       "    </tr>\n",
       "    <tr>\n",
       "      <th>473</th>\n",
       "      <td>3869</td>\n",
       "      <td>0.088854</td>\n",
       "      <td>Jay and Silent Bob Strike Back</td>\n",
       "    </tr>\n",
       "  </tbody>\n",
       "</table>\n",
       "<p>504 rows × 3 columns</p>\n",
       "</div>"
      ],
      "text/plain": [
       "     movieId     score                               titles\n",
       "18      3793  0.994320        The Day the Earth Stood Still\n",
       "36      5952  0.912415                   Revolutionary Road\n",
       "37      7153  0.912415                         Flushed Away\n",
       "53      4993  0.813651                         Spider-Man 3\n",
       "118     6934  0.802803                           Spider-Man\n",
       "..       ...       ...                                  ...\n",
       "427    39234  0.099503                         Time Bandits\n",
       "471     6888  0.099357                      The Fisher King\n",
       "201    47384  0.099085  The Imaginarium of Doctor Parnassus\n",
       "472    50802  0.089655                     Mr. & Mrs. Smith\n",
       "473     3869  0.088854       Jay and Silent Bob Strike Back\n",
       "\n",
       "[504 rows x 3 columns]"
      ]
     },
     "execution_count": 60,
     "metadata": {},
     "output_type": "execute_result"
    },
    {
     "data": {
      "image/png": "[encoded data removed]",
      "text/plain": [
       "<Figure size 432x288 with 1 Axes>"
      ]
     },
     "metadata": {
      "needs_background": "light"
     },
     "output_type": "display_data"
    }
   ],
   "source": [
    "RecomContent = getContentRecomMovies(randomUser,contentSimilarity)\n",
    "sns.histplot(RecomContent['score'])\n",
    "RecomContent"
   ]
  },
  {
   "cell_type": "code",
   "execution_count": null,
   "id": "980cb0a9",
   "metadata": {},
   "outputs": [],
   "source": []
  }
 ],
 "metadata": {
  "kernelspec": {
   "display_name": "Python 3 (ipykernel)",
   "language": "python",
   "name": "python3"
  },
  "language_info": {
   "codemirror_mode": {
    "name": "ipython",
    "version": 3
   },
   "file_extension": ".py",
   "mimetype": "text/x-python",
   "name": "python",
   "nbconvert_exporter": "python",
   "pygments_lexer": "ipython3",
   "version": "3.8.10"
  }
 },
 "nbformat": 4,
 "nbformat_minor": 5
}
